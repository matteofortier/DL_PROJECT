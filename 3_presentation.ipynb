{
 "cells": [
  {
   "cell_type": "code",
   "execution_count": 6,
   "id": "d073fc1c-f2d1-4532-8227-98a8b883e45d",
   "metadata": {},
   "outputs": [],
   "source": [
    "import pandas as pd\n",
    "import ast\n",
    "import swifter"
   ]
  },
  {
   "cell_type": "code",
   "execution_count": 7,
   "id": "af28f628-2130-4bd0-b2d3-3a22630051a5",
   "metadata": {},
   "outputs": [],
   "source": [
    "df = pd.read_csv('data/shrunkgenres.csv')"
   ]
  },
  {
   "cell_type": "code",
   "execution_count": 8,
   "id": "4ac529e8-5c41-4905-ab94-ff41f41a06d9",
   "metadata": {},
   "outputs": [
    {
     "data": {
      "application/vnd.jupyter.widget-view+json": {
       "model_id": "239a1028dce7463aa8ff2c26878d8ba5",
       "version_major": 2,
       "version_minor": 0
      },
      "text/plain": [
       "Pandas Apply:   0%|          | 0/799 [00:00<?, ?it/s]"
      ]
     },
     "metadata": {},
     "output_type": "display_data"
    },
    {
     "data": {
      "text/html": [
       "<div>\n",
       "<style scoped>\n",
       "    .dataframe tbody tr th:only-of-type {\n",
       "        vertical-align: middle;\n",
       "    }\n",
       "\n",
       "    .dataframe tbody tr th {\n",
       "        vertical-align: top;\n",
       "    }\n",
       "\n",
       "    .dataframe thead th {\n",
       "        text-align: right;\n",
       "    }\n",
       "</style>\n",
       "<table border=\"1\" class=\"dataframe\">\n",
       "  <thead>\n",
       "    <tr style=\"text-align: right;\">\n",
       "      <th></th>\n",
       "      <th>appid</th>\n",
       "      <th>name</th>\n",
       "      <th>genres</th>\n",
       "    </tr>\n",
       "  </thead>\n",
       "  <tbody>\n",
       "    <tr>\n",
       "      <th>0</th>\n",
       "      <td>10</td>\n",
       "      <td>Counter-Strike</td>\n",
       "      <td>[action]</td>\n",
       "    </tr>\n",
       "    <tr>\n",
       "      <th>1</th>\n",
       "      <td>20</td>\n",
       "      <td>Team Fortress Classic</td>\n",
       "      <td>[action]</td>\n",
       "    </tr>\n",
       "    <tr>\n",
       "      <th>2</th>\n",
       "      <td>30</td>\n",
       "      <td>Day of Defeat</td>\n",
       "      <td>[action]</td>\n",
       "    </tr>\n",
       "    <tr>\n",
       "      <th>3</th>\n",
       "      <td>40</td>\n",
       "      <td>Deathmatch Classic</td>\n",
       "      <td>[action]</td>\n",
       "    </tr>\n",
       "    <tr>\n",
       "      <th>4</th>\n",
       "      <td>50</td>\n",
       "      <td>Half-Life: Opposing Force</td>\n",
       "      <td>[action]</td>\n",
       "    </tr>\n",
       "    <tr>\n",
       "      <th>...</th>\n",
       "      <td>...</td>\n",
       "      <td>...</td>\n",
       "      <td>...</td>\n",
       "    </tr>\n",
       "    <tr>\n",
       "      <th>794</th>\n",
       "      <td>1366540</td>\n",
       "      <td>Dyson Sphere Program</td>\n",
       "      <td>[simulation, strategy]</td>\n",
       "    </tr>\n",
       "    <tr>\n",
       "      <th>795</th>\n",
       "      <td>1399780</td>\n",
       "      <td>Spellbreak</td>\n",
       "      <td>[action, adventure, rpg]</td>\n",
       "    </tr>\n",
       "    <tr>\n",
       "      <th>796</th>\n",
       "      <td>1407200</td>\n",
       "      <td>World of Tanks</td>\n",
       "      <td>[action, massively multiplayer, simulation]</td>\n",
       "    </tr>\n",
       "    <tr>\n",
       "      <th>797</th>\n",
       "      <td>1426210</td>\n",
       "      <td>It Takes Two</td>\n",
       "      <td>[action, adventure]</td>\n",
       "    </tr>\n",
       "    <tr>\n",
       "      <th>798</th>\n",
       "      <td>1468810</td>\n",
       "      <td>鬼谷八荒</td>\n",
       "      <td>[action, adventure, rpg, simulation]</td>\n",
       "    </tr>\n",
       "  </tbody>\n",
       "</table>\n",
       "<p>799 rows × 3 columns</p>\n",
       "</div>"
      ],
      "text/plain": [
       "       appid                       name  \\\n",
       "0         10             Counter-Strike   \n",
       "1         20      Team Fortress Classic   \n",
       "2         30              Day of Defeat   \n",
       "3         40         Deathmatch Classic   \n",
       "4         50  Half-Life: Opposing Force   \n",
       "..       ...                        ...   \n",
       "794  1366540       Dyson Sphere Program   \n",
       "795  1399780                 Spellbreak   \n",
       "796  1407200             World of Tanks   \n",
       "797  1426210               It Takes Two   \n",
       "798  1468810                       鬼谷八荒   \n",
       "\n",
       "                                          genres  \n",
       "0                                       [action]  \n",
       "1                                       [action]  \n",
       "2                                       [action]  \n",
       "3                                       [action]  \n",
       "4                                       [action]  \n",
       "..                                           ...  \n",
       "794                       [simulation, strategy]  \n",
       "795                     [action, adventure, rpg]  \n",
       "796  [action, massively multiplayer, simulation]  \n",
       "797                          [action, adventure]  \n",
       "798         [action, adventure, rpg, simulation]  \n",
       "\n",
       "[799 rows x 3 columns]"
      ]
     },
     "execution_count": 8,
     "metadata": {},
     "output_type": "execute_result"
    }
   ],
   "source": [
    "df['genres'] = df['genres'].swifter.apply(lambda x: ast.literal_eval(x))\n",
    "df"
   ]
  },
  {
   "cell_type": "code",
   "execution_count": 30,
   "id": "e25877c8-f586-4c67-9620-b8950779e0ec",
   "metadata": {},
   "outputs": [
    {
     "data": {
      "text/plain": [
       "22"
      ]
     },
     "execution_count": 30,
     "metadata": {},
     "output_type": "execute_result"
    }
   ],
   "source": [
    "len(df[df['genres'].map(lambda x: 'racing' in x)])"
   ]
  },
  {
   "cell_type": "code",
   "execution_count": null,
   "id": "dd5d8106-2db4-44cd-b34f-b012dcb2609a",
   "metadata": {},
   "outputs": [],
   "source": []
  }
 ],
 "metadata": {
  "kernelspec": {
   "display_name": "Python 3 (ipykernel)",
   "language": "python",
   "name": "python3"
  },
  "language_info": {
   "codemirror_mode": {
    "name": "ipython",
    "version": 3
   },
   "file_extension": ".py",
   "mimetype": "text/x-python",
   "name": "python",
   "nbconvert_exporter": "python",
   "pygments_lexer": "ipython3",
   "version": "3.8.10"
  }
 },
 "nbformat": 4,
 "nbformat_minor": 5
}
