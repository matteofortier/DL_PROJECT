{
 "cells": [
  {
   "cell_type": "code",
   "execution_count": 1,
   "id": "91504dce-765b-4321-a0db-316b2af1a5bc",
   "metadata": {},
   "outputs": [],
   "source": [
    "import numpy as np\n",
    "import pandas as pd\n",
    "import requests, os\n",
    "import time\n",
    "import random\n",
    "import swifter\n",
    "# import csv\n",
    "# import datetime as dt\n",
    "# import json\n",
    "# import os\n",
    "# import statistics\n",
    "from collections import Counter\n",
    "import matplotlib.pyplot as plt\n",
    "\n",
    "from fake_useragent import UserAgent\n",
    "ua = UserAgent()\n",
    "\n",
    "user_agent = {'User-agent': ua.random}\n",
    "\n",
    "def get_request(url, parameters=None, rate=60): \n",
    "    response = None\n",
    "    while not response:\n",
    "        try:\n",
    "            response = requests.get(url=url, params=parameters, headers=user_agent)\n",
    "            if not response:\n",
    "                print('None response. Trying again in {} seconds...'.format(rate))\n",
    "#                 toggle_vpn()\n",
    "                time.sleep(rate)\n",
    "        except:\n",
    "            print('Request Exception. Trying again in 5 sec...')\n",
    "            time.sleep(5)\n",
    "            continue\n",
    "        \n",
    "    \n",
    "    return response.json()\n",
    "\n",
    "def flatten(t):\n",
    "    return [item for sublist in t for item in sublist]"
   ]
  },
  {
   "cell_type": "code",
   "execution_count": 68,
   "id": "30392bb9-7f66-4ba5-92ee-9fb96ea90341",
   "metadata": {},
   "outputs": [
    {
     "data": {
      "application/vnd.jupyter.widget-view+json": {
       "model_id": "df8d8b1859174c2a87ef51fe94f10c2e",
       "version_major": 2,
       "version_minor": 0
      },
      "text/plain": [
       "Pandas Apply:   0%|          | 0/807 [00:00<?, ?it/s]"
      ]
     },
     "metadata": {},
     "output_type": "display_data"
    },
    {
     "data": {
      "application/vnd.jupyter.widget-view+json": {
       "model_id": "3ade79c5f9444b15abb273ade7c5a232",
       "version_major": 2,
       "version_minor": 0
      },
      "text/plain": [
       "Pandas Apply:   0%|          | 0/807 [00:00<?, ?it/s]"
      ]
     },
     "metadata": {},
     "output_type": "display_data"
    },
    {
     "data": {
      "text/html": [
       "<div>\n",
       "<style scoped>\n",
       "    .dataframe tbody tr th:only-of-type {\n",
       "        vertical-align: middle;\n",
       "    }\n",
       "\n",
       "    .dataframe tbody tr th {\n",
       "        vertical-align: top;\n",
       "    }\n",
       "\n",
       "    .dataframe thead th {\n",
       "        text-align: right;\n",
       "    }\n",
       "</style>\n",
       "<table border=\"1\" class=\"dataframe\">\n",
       "  <thead>\n",
       "    <tr style=\"text-align: right;\">\n",
       "      <th></th>\n",
       "      <th>name</th>\n",
       "      <th>genres</th>\n",
       "    </tr>\n",
       "    <tr>\n",
       "      <th>appid</th>\n",
       "      <th></th>\n",
       "      <th></th>\n",
       "    </tr>\n",
       "  </thead>\n",
       "  <tbody>\n",
       "    <tr>\n",
       "      <th>10</th>\n",
       "      <td>Counter-Strike</td>\n",
       "      <td>[action]</td>\n",
       "    </tr>\n",
       "    <tr>\n",
       "      <th>20</th>\n",
       "      <td>Team Fortress Classic</td>\n",
       "      <td>[action]</td>\n",
       "    </tr>\n",
       "    <tr>\n",
       "      <th>30</th>\n",
       "      <td>Day of Defeat</td>\n",
       "      <td>[action]</td>\n",
       "    </tr>\n",
       "    <tr>\n",
       "      <th>40</th>\n",
       "      <td>Deathmatch Classic</td>\n",
       "      <td>[action]</td>\n",
       "    </tr>\n",
       "    <tr>\n",
       "      <th>50</th>\n",
       "      <td>Half-Life: Opposing Force</td>\n",
       "      <td>[action]</td>\n",
       "    </tr>\n",
       "    <tr>\n",
       "      <th>...</th>\n",
       "      <td>...</td>\n",
       "      <td>...</td>\n",
       "    </tr>\n",
       "    <tr>\n",
       "      <th>1366540</th>\n",
       "      <td>Dyson Sphere Program</td>\n",
       "      <td>[indie, simulation, strategy, early access]</td>\n",
       "    </tr>\n",
       "    <tr>\n",
       "      <th>1399780</th>\n",
       "      <td>Spellbreak</td>\n",
       "      <td>[action, adventure, free to play, rpg]</td>\n",
       "    </tr>\n",
       "    <tr>\n",
       "      <th>1407200</th>\n",
       "      <td>World of Tanks</td>\n",
       "      <td>[action, free to play, massively multiplayer, ...</td>\n",
       "    </tr>\n",
       "    <tr>\n",
       "      <th>1426210</th>\n",
       "      <td>It Takes Two</td>\n",
       "      <td>[action, adventure]</td>\n",
       "    </tr>\n",
       "    <tr>\n",
       "      <th>1468810</th>\n",
       "      <td>鬼谷八荒</td>\n",
       "      <td>[action, adventure, indie, rpg, simulation, ea...</td>\n",
       "    </tr>\n",
       "  </tbody>\n",
       "</table>\n",
       "<p>807 rows × 2 columns</p>\n",
       "</div>"
      ],
      "text/plain": [
       "                              name  \\\n",
       "appid                                \n",
       "10                  Counter-Strike   \n",
       "20           Team Fortress Classic   \n",
       "30                   Day of Defeat   \n",
       "40              Deathmatch Classic   \n",
       "50       Half-Life: Opposing Force   \n",
       "...                            ...   \n",
       "1366540       Dyson Sphere Program   \n",
       "1399780                 Spellbreak   \n",
       "1407200             World of Tanks   \n",
       "1426210               It Takes Two   \n",
       "1468810                       鬼谷八荒   \n",
       "\n",
       "                                                    genres  \n",
       "appid                                                       \n",
       "10                                                [action]  \n",
       "20                                                [action]  \n",
       "30                                                [action]  \n",
       "40                                                [action]  \n",
       "50                                                [action]  \n",
       "...                                                    ...  \n",
       "1366540        [indie, simulation, strategy, early access]  \n",
       "1399780             [action, adventure, free to play, rpg]  \n",
       "1407200  [action, free to play, massively multiplayer, ...  \n",
       "1426210                                [action, adventure]  \n",
       "1468810  [action, adventure, indie, rpg, simulation, ea...  \n",
       "\n",
       "[807 rows x 2 columns]"
      ]
     },
     "execution_count": 68,
     "metadata": {},
     "output_type": "execute_result"
    }
   ],
   "source": [
    "df = pd.read_csv('data/combined_cleaned.csv',index_col=0)\n",
    "df = df[df['owners'] > 1000000][['name','genres']]\n",
    "\n",
    "df['genres'] = df['genres'].swifter.apply(lambda x: x.lower())\n",
    "\n",
    "df['genres'] = df['genres'].swifter.apply(lambda x: x.split(', '))\n",
    "\n",
    "df"
   ]
  },
  {
   "cell_type": "code",
   "execution_count": 69,
   "id": "5f7b56e6-f098-4790-b21b-96c7ec65ed0d",
   "metadata": {},
   "outputs": [
    {
     "data": {
      "text/plain": [
       "[('action', 528),\n",
       " ('indie', 288),\n",
       " ('adventure', 261),\n",
       " ('rpg', 200),\n",
       " ('free to play', 179),\n",
       " ('strategy', 169),\n",
       " ('simulation', 151),\n",
       " ('massively multiplayer', 103),\n",
       " ('casual', 91),\n",
       " ('early access', 44),\n",
       " ('sports', 34),\n",
       " ('racing', 22),\n",
       " ('violent', 2),\n",
       " ('gore', 1)]"
      ]
     },
     "execution_count": 69,
     "metadata": {},
     "output_type": "execute_result"
    }
   ],
   "source": [
    "genres_list = flatten(df['genres'].tolist())\n",
    "genres_set = set(genres_list)\n",
    "genres_set\n",
    "delete_genres = ['free to play','indie','violent','gore','early access']\n",
    "Counter(genres_list).most_common()"
   ]
  },
  {
   "cell_type": "code",
   "execution_count": 70,
   "id": "265488ca-b092-4657-a420-79554ca3bb0b",
   "metadata": {},
   "outputs": [
    {
     "data": {
      "application/vnd.jupyter.widget-view+json": {
       "model_id": "827ceb0a13df4e92aede13455f3a0309",
       "version_major": 2,
       "version_minor": 0
      },
      "text/plain": [
       "Pandas Apply:   0%|          | 0/807 [00:00<?, ?it/s]"
      ]
     },
     "metadata": {},
     "output_type": "display_data"
    },
    {
     "data": {
      "text/html": [
       "<div>\n",
       "<style scoped>\n",
       "    .dataframe tbody tr th:only-of-type {\n",
       "        vertical-align: middle;\n",
       "    }\n",
       "\n",
       "    .dataframe tbody tr th {\n",
       "        vertical-align: top;\n",
       "    }\n",
       "\n",
       "    .dataframe thead th {\n",
       "        text-align: right;\n",
       "    }\n",
       "</style>\n",
       "<table border=\"1\" class=\"dataframe\">\n",
       "  <thead>\n",
       "    <tr style=\"text-align: right;\">\n",
       "      <th></th>\n",
       "      <th>name</th>\n",
       "      <th>genres</th>\n",
       "    </tr>\n",
       "    <tr>\n",
       "      <th>appid</th>\n",
       "      <th></th>\n",
       "      <th></th>\n",
       "    </tr>\n",
       "  </thead>\n",
       "  <tbody>\n",
       "    <tr>\n",
       "      <th>10</th>\n",
       "      <td>Counter-Strike</td>\n",
       "      <td>[action]</td>\n",
       "    </tr>\n",
       "    <tr>\n",
       "      <th>20</th>\n",
       "      <td>Team Fortress Classic</td>\n",
       "      <td>[action]</td>\n",
       "    </tr>\n",
       "    <tr>\n",
       "      <th>30</th>\n",
       "      <td>Day of Defeat</td>\n",
       "      <td>[action]</td>\n",
       "    </tr>\n",
       "    <tr>\n",
       "      <th>40</th>\n",
       "      <td>Deathmatch Classic</td>\n",
       "      <td>[action]</td>\n",
       "    </tr>\n",
       "    <tr>\n",
       "      <th>50</th>\n",
       "      <td>Half-Life: Opposing Force</td>\n",
       "      <td>[action]</td>\n",
       "    </tr>\n",
       "    <tr>\n",
       "      <th>...</th>\n",
       "      <td>...</td>\n",
       "      <td>...</td>\n",
       "    </tr>\n",
       "    <tr>\n",
       "      <th>1366540</th>\n",
       "      <td>Dyson Sphere Program</td>\n",
       "      <td>[simulation, strategy]</td>\n",
       "    </tr>\n",
       "    <tr>\n",
       "      <th>1399780</th>\n",
       "      <td>Spellbreak</td>\n",
       "      <td>[action, adventure, rpg]</td>\n",
       "    </tr>\n",
       "    <tr>\n",
       "      <th>1407200</th>\n",
       "      <td>World of Tanks</td>\n",
       "      <td>[action, massively multiplayer, simulation]</td>\n",
       "    </tr>\n",
       "    <tr>\n",
       "      <th>1426210</th>\n",
       "      <td>It Takes Two</td>\n",
       "      <td>[action, adventure]</td>\n",
       "    </tr>\n",
       "    <tr>\n",
       "      <th>1468810</th>\n",
       "      <td>鬼谷八荒</td>\n",
       "      <td>[action, adventure, rpg, simulation]</td>\n",
       "    </tr>\n",
       "  </tbody>\n",
       "</table>\n",
       "<p>799 rows × 2 columns</p>\n",
       "</div>"
      ],
      "text/plain": [
       "                              name  \\\n",
       "appid                                \n",
       "10                  Counter-Strike   \n",
       "20           Team Fortress Classic   \n",
       "30                   Day of Defeat   \n",
       "40              Deathmatch Classic   \n",
       "50       Half-Life: Opposing Force   \n",
       "...                            ...   \n",
       "1366540       Dyson Sphere Program   \n",
       "1399780                 Spellbreak   \n",
       "1407200             World of Tanks   \n",
       "1426210               It Takes Two   \n",
       "1468810                       鬼谷八荒   \n",
       "\n",
       "                                              genres  \n",
       "appid                                                 \n",
       "10                                          [action]  \n",
       "20                                          [action]  \n",
       "30                                          [action]  \n",
       "40                                          [action]  \n",
       "50                                          [action]  \n",
       "...                                              ...  \n",
       "1366540                       [simulation, strategy]  \n",
       "1399780                     [action, adventure, rpg]  \n",
       "1407200  [action, massively multiplayer, simulation]  \n",
       "1426210                          [action, adventure]  \n",
       "1468810         [action, adventure, rpg, simulation]  \n",
       "\n",
       "[799 rows x 2 columns]"
      ]
     },
     "execution_count": 70,
     "metadata": {},
     "output_type": "execute_result"
    }
   ],
   "source": [
    "df['genres'] = df['genres'].swifter.apply(lambda x: [y for y in x if y not in delete_genres])\n",
    "df = df[df['genres'].map(lambda x: len(x)) != 0]\n",
    "df"
   ]
  },
  {
   "cell_type": "code",
   "execution_count": 98,
   "id": "674a2918-e958-4b80-b291-0e94b5720715",
   "metadata": {},
   "outputs": [
    {
     "data": {
      "text/plain": [
       "name                     Space Engineers\n",
       "genres    [action, simulation, strategy]\n",
       "Name: 244850, dtype: object"
      ]
     },
     "execution_count": 98,
     "metadata": {},
     "output_type": "execute_result"
    }
   ],
   "source": [
    "df.loc[244850]"
   ]
  },
  {
   "cell_type": "code",
   "execution_count": 71,
   "id": "9af2582b-5d73-495c-9907-4da58eb1924d",
   "metadata": {},
   "outputs": [],
   "source": [
    "df.to_csv('data/shrunkgenres.csv')"
   ]
  },
  {
   "cell_type": "code",
   "execution_count": 23,
   "id": "920a8beb-ab1e-462b-b62d-ea1fd4337082",
   "metadata": {},
   "outputs": [],
   "source": [
    "import ast"
   ]
  },
  {
   "cell_type": "code",
   "execution_count": 27,
   "id": "7f0abc07-2438-4447-8745-2060d5793c51",
   "metadata": {},
   "outputs": [
    {
     "data": {
      "application/vnd.jupyter.widget-view+json": {
       "model_id": "c4f997cfdc4d4b96bd10181e775465f3",
       "version_major": 2,
       "version_minor": 0
      },
      "text/plain": [
       "Pandas Apply:   0%|          | 0/807 [00:00<?, ?it/s]"
      ]
     },
     "metadata": {},
     "output_type": "display_data"
    }
   ],
   "source": [
    "screenshot_df = pd.read_csv('data/screenshots.csv',index_col=0)[['steam_appid','screenshots']]\n",
    "screenshot_df['screenshots'] = screenshot_df['screenshots'].swifter.apply(lambda x: ast.literal_eval(x))"
   ]
  },
  {
   "cell_type": "code",
   "execution_count": 53,
   "id": "c36dbebd-5cf5-4d0f-bdf7-8f2f6e0435e3",
   "metadata": {},
   "outputs": [
    {
     "data": {
      "text/html": [
       "<div>\n",
       "<style scoped>\n",
       "    .dataframe tbody tr th:only-of-type {\n",
       "        vertical-align: middle;\n",
       "    }\n",
       "\n",
       "    .dataframe tbody tr th {\n",
       "        vertical-align: top;\n",
       "    }\n",
       "\n",
       "    .dataframe thead th {\n",
       "        text-align: right;\n",
       "    }\n",
       "</style>\n",
       "<table border=\"1\" class=\"dataframe\">\n",
       "  <thead>\n",
       "    <tr style=\"text-align: right;\">\n",
       "      <th></th>\n",
       "      <th>steam_appid</th>\n",
       "      <th>screenshots</th>\n",
       "    </tr>\n",
       "  </thead>\n",
       "  <tbody>\n",
       "    <tr>\n",
       "      <th>0</th>\n",
       "      <td>10</td>\n",
       "      <td>[https://cdn.akamai.steamstatic.com/steam/apps...</td>\n",
       "    </tr>\n",
       "    <tr>\n",
       "      <th>1</th>\n",
       "      <td>20</td>\n",
       "      <td>[https://cdn.akamai.steamstatic.com/steam/apps...</td>\n",
       "    </tr>\n",
       "    <tr>\n",
       "      <th>2</th>\n",
       "      <td>30</td>\n",
       "      <td>[https://cdn.akamai.steamstatic.com/steam/apps...</td>\n",
       "    </tr>\n",
       "    <tr>\n",
       "      <th>3</th>\n",
       "      <td>40</td>\n",
       "      <td>[https://cdn.akamai.steamstatic.com/steam/apps...</td>\n",
       "    </tr>\n",
       "    <tr>\n",
       "      <th>4</th>\n",
       "      <td>50</td>\n",
       "      <td>[https://cdn.akamai.steamstatic.com/steam/apps...</td>\n",
       "    </tr>\n",
       "    <tr>\n",
       "      <th>...</th>\n",
       "      <td>...</td>\n",
       "      <td>...</td>\n",
       "    </tr>\n",
       "    <tr>\n",
       "      <th>802</th>\n",
       "      <td>1366540</td>\n",
       "      <td>[https://cdn.akamai.steamstatic.com/steam/apps...</td>\n",
       "    </tr>\n",
       "    <tr>\n",
       "      <th>803</th>\n",
       "      <td>1399780</td>\n",
       "      <td>[https://cdn.akamai.steamstatic.com/steam/apps...</td>\n",
       "    </tr>\n",
       "    <tr>\n",
       "      <th>804</th>\n",
       "      <td>1407200</td>\n",
       "      <td>[https://cdn.akamai.steamstatic.com/steam/apps...</td>\n",
       "    </tr>\n",
       "    <tr>\n",
       "      <th>805</th>\n",
       "      <td>1426210</td>\n",
       "      <td>[https://cdn.akamai.steamstatic.com/steam/apps...</td>\n",
       "    </tr>\n",
       "    <tr>\n",
       "      <th>806</th>\n",
       "      <td>1468810</td>\n",
       "      <td>[https://cdn.akamai.steamstatic.com/steam/apps...</td>\n",
       "    </tr>\n",
       "  </tbody>\n",
       "</table>\n",
       "<p>807 rows × 2 columns</p>\n",
       "</div>"
      ],
      "text/plain": [
       "     steam_appid                                        screenshots\n",
       "0             10  [https://cdn.akamai.steamstatic.com/steam/apps...\n",
       "1             20  [https://cdn.akamai.steamstatic.com/steam/apps...\n",
       "2             30  [https://cdn.akamai.steamstatic.com/steam/apps...\n",
       "3             40  [https://cdn.akamai.steamstatic.com/steam/apps...\n",
       "4             50  [https://cdn.akamai.steamstatic.com/steam/apps...\n",
       "..           ...                                                ...\n",
       "802      1366540  [https://cdn.akamai.steamstatic.com/steam/apps...\n",
       "803      1399780  [https://cdn.akamai.steamstatic.com/steam/apps...\n",
       "804      1407200  [https://cdn.akamai.steamstatic.com/steam/apps...\n",
       "805      1426210  [https://cdn.akamai.steamstatic.com/steam/apps...\n",
       "806      1468810  [https://cdn.akamai.steamstatic.com/steam/apps...\n",
       "\n",
       "[807 rows x 2 columns]"
      ]
     },
     "execution_count": 53,
     "metadata": {},
     "output_type": "execute_result"
    }
   ],
   "source": [
    "screenshot_df"
   ]
  },
  {
   "cell_type": "code",
   "execution_count": 54,
   "id": "b6c9fbd5-2005-40c2-bfff-c71041c1375d",
   "metadata": {},
   "outputs": [],
   "source": [
    "images_tag = pd.merge(screenshot_df,df,how='right',left_on='steam_appid',right_on='appid')[['appid','screenshots','genres']].set_index('appid')"
   ]
  },
  {
   "cell_type": "code",
   "execution_count": 60,
   "id": "8604ede9-25fb-447c-9c65-419921ff5a93",
   "metadata": {},
   "outputs": [],
   "source": [
    "images_tag = dict(images_tag['screenshots'])"
   ]
  },
  {
   "cell_type": "code",
   "execution_count": 56,
   "id": "e3d6d5e5-bc54-4bdd-9444-2e463d794669",
   "metadata": {},
   "outputs": [
    {
     "name": "stdout",
     "output_type": "stream",
     "text": [
      "action 7213\n",
      "strategy 2293\n",
      "adventure 3491\n",
      "rpg 2837\n",
      "simulation 2484\n",
      "massively multiplayer 1720\n",
      "racing 520\n",
      "casual 1129\n",
      "sports 666\n"
     ]
    }
   ],
   "source": [
    "for genre in Counter(genres_list).keys():\n",
    "    number = len(sum(images_tag['screenshots'][images_tag['genres'].map(lambda genres: genre in genres)].tolist(), []))\n",
    "    print(genre, number)\n",
    "    "
   ]
  },
  {
   "cell_type": "code",
   "execution_count": 120,
   "id": "f7c5c39c-f468-4d26-a424-d1b2e248022e",
   "metadata": {},
   "outputs": [
    {
     "data": {
      "text/plain": [
       "array(['sports', 'adventure', 'action', 'simulation',\n",
       "       'massively multiplayer', 'strategy', 'racing', 'casual', 'rpg'],\n",
       "      dtype='<U21')"
      ]
     },
     "execution_count": 120,
     "metadata": {},
     "output_type": "execute_result"
    }
   ],
   "source": [
    "class_names"
   ]
  },
  {
   "cell_type": "code",
   "execution_count": 114,
   "id": "9bc80f5a-1f52-410c-8bb7-12c49fd0120d",
   "metadata": {},
   "outputs": [],
   "source": [
    "for appid in images_tag.keys():\n",
    "    for i, image in enumerate(images_tag[appid]):\n",
    "        response = requests.get(image)\n",
    "        file = open('image_appid/'+str(appid)+'_'+str(i)+'.png', \"wb\")\n",
    "        file.write(response.content)\n",
    "        file.close()"
   ]
  },
  {
   "cell_type": "code",
   "execution_count": 104,
   "id": "5375e7b0-9607-4f02-ad61-7b81faee2256",
   "metadata": {},
   "outputs": [
    {
     "data": {
      "application/vnd.jupyter.widget-view+json": {
       "model_id": "0ae4adbb660a4fe095124458e598724e",
       "version_major": 2,
       "version_minor": 0
      },
      "text/plain": [
       "Pandas Apply:   0%|          | 0/799 [00:00<?, ?it/s]"
      ]
     },
     "metadata": {},
     "output_type": "display_data"
    },
    {
     "data": {
      "application/vnd.jupyter.widget-view+json": {
       "model_id": "febf72fd5190406a9c98e1fd81e6b929",
       "version_major": 2,
       "version_minor": 0
      },
      "text/plain": [
       "Pandas Apply:   0%|          | 0/799 [00:00<?, ?it/s]"
      ]
     },
     "metadata": {},
     "output_type": "display_data"
    }
   ],
   "source": [
    "def label_encode(genres_list):\n",
    "    return ['1' if x in genres_list else '0' for x in class_names]\n",
    "\n",
    "id_genre = pd.read_csv('data/shrunkgenres.csv',index_col=0)\n",
    "id_genre['genres'] = id_genre['genres'].swifter.apply(lambda x: ast.literal_eval(x))\n",
    "class_names = np.array(list(set(sum(id_genre['genres'].tolist(), []))))\n",
    "\n",
    "id_genre['genres'] = id_genre['genres'].swifter.apply(label_encode)\n",
    "id_genre = dict(id_genre['genres'])"
   ]
  },
  {
   "cell_type": "code",
   "execution_count": 105,
   "id": "4e7631b9-26c6-4962-ab27-30e32a27f721",
   "metadata": {},
   "outputs": [
    {
     "data": {
      "text/plain": [
       "['0', '0', '1', '1', '0', '1', '0', '0', '0']"
      ]
     },
     "execution_count": 105,
     "metadata": {},
     "output_type": "execute_result"
    }
   ],
   "source": [
    "id_genre[244850]"
   ]
  },
  {
   "cell_type": "code",
   "execution_count": 119,
   "id": "674dda16-f9dd-4d18-9165-590abd3ce8c9",
   "metadata": {},
   "outputs": [],
   "source": [
    "from pathlib import Path\n",
    "for path in list(Path('image_appid').glob('*.png')):\n",
    "    path_str = path.name\n",
    "    appid = int(path_str.split('_')[0])\n",
    "    genres = '-'.join(id_genre[appid])\n",
    "    os.rename('image_appid/'+path.name,'image_appid/'+path.name.replace('.','_'+genres+'.'))"
   ]
  },
  {
   "cell_type": "code",
   "execution_count": 107,
   "id": "144807ad-8faa-4621-8d22-003ead4637d7",
   "metadata": {},
   "outputs": [
    {
     "data": {
      "text/plain": [
       "'001000000'"
      ]
     },
     "execution_count": 107,
     "metadata": {},
     "output_type": "execute_result"
    }
   ],
   "source": [
    "''.join(id_genre[int(next(Path('image_appid').iterdir()).name.split('_')[0])])"
   ]
  },
  {
   "cell_type": "code",
   "execution_count": 134,
   "id": "a82fc1af-0d67-4135-ac15-bbd952b70ec6",
   "metadata": {},
   "outputs": [
    {
     "data": {
      "text/plain": [
       "'000000001'"
      ]
     },
     "execution_count": 134,
     "metadata": {},
     "output_type": "execute_result"
    }
   ],
   "source": [
    "next(Path('image_appid').iterdir()).name[-13:-4]"
   ]
  },
  {
   "cell_type": "code",
   "execution_count": 136,
   "id": "ea668487-8ecf-40df-b981-c728f272d171",
   "metadata": {},
   "outputs": [],
   "source": [
    "for path in list(Path('image_appid').glob('*.png')):\n",
    "    path_str = path.name\n",
    "    genres = path_str[-13:-4]\n",
    "    beginning = path_str[:-13]\n",
    "    os.rename('image_appid/'+path.name,'image_appid/'+beginning+'s'.join(genres)+'.png')"
   ]
  },
  {
   "cell_type": "code",
   "execution_count": null,
   "id": "56cdd8ea-c05f-4f1b-a87c-973b6f766a54",
   "metadata": {},
   "outputs": [],
   "source": []
  }
 ],
 "metadata": {
  "kernelspec": {
   "display_name": "Python 3 (ipykernel)",
   "language": "python",
   "name": "python3"
  },
  "language_info": {
   "codemirror_mode": {
    "name": "ipython",
    "version": 3
   },
   "file_extension": ".py",
   "mimetype": "text/x-python",
   "name": "python",
   "nbconvert_exporter": "python",
   "pygments_lexer": "ipython3",
   "version": "3.8.10"
  }
 },
 "nbformat": 4,
 "nbformat_minor": 5
}
