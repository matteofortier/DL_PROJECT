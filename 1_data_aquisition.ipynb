{
 "cells": [
  {
   "cell_type": "code",
   "execution_count": 332,
   "id": "91504dce-765b-4321-a0db-316b2af1a5bc",
   "metadata": {},
   "outputs": [],
   "source": [
    "import numpy as np\n",
    "import pandas as pd\n",
    "import requests, os\n",
    "import time\n",
    "import random\n",
    "import swifter\n",
    "# import csv\n",
    "# import datetime as dt\n",
    "# import json\n",
    "# import os\n",
    "# import statistics\n",
    "from collections import Counter\n",
    "import matplotlib.pyplot as plt\n",
    "\n",
    "from fake_useragent import UserAgent\n",
    "ua = UserAgent()\n",
    "\n",
    "user_agent = {'User-agent': ua.random}\n",
    "\n",
    "def get_request(url, parameters=None, rate=60): \n",
    "    response = None\n",
    "    while not response:\n",
    "        try:\n",
    "            response = requests.get(url=url, params=parameters, headers=user_agent)\n",
    "            if not response:\n",
    "                print('None response. Trying again in {} seconds...'.format(rate))\n",
    "#                 toggle_vpn()\n",
    "                time.sleep(rate)\n",
    "        except:\n",
    "            print('Request Exception. Trying again in 5 sec...')\n",
    "            time.sleep(5)\n",
    "            continue\n",
    "        \n",
    "    \n",
    "    return response.json()\n",
    "\n",
    "def flatten(t):\n",
    "    return [item for sublist in t for item in sublist]"
   ]
  },
  {
   "cell_type": "code",
   "execution_count": 333,
   "id": "30392bb9-7f66-4ba5-92ee-9fb96ea90341",
   "metadata": {},
   "outputs": [
    {
     "data": {
      "application/vnd.jupyter.widget-view+json": {
       "model_id": "da89ce3f84204156914d291e67a49f1c",
       "version_major": 2,
       "version_minor": 0
      },
      "text/plain": [
       "Pandas Apply:   0%|          | 0/807 [00:00<?, ?it/s]"
      ]
     },
     "metadata": {},
     "output_type": "display_data"
    },
    {
     "data": {
      "application/vnd.jupyter.widget-view+json": {
       "model_id": "df5925e0cb84429c93d2ab487b75a9e3",
       "version_major": 2,
       "version_minor": 0
      },
      "text/plain": [
       "Pandas Apply:   0%|          | 0/807 [00:00<?, ?it/s]"
      ]
     },
     "metadata": {},
     "output_type": "display_data"
    },
    {
     "data": {
      "application/vnd.jupyter.widget-view+json": {
       "model_id": "43a553409c624e6b96cc2732089fc612",
       "version_major": 2,
       "version_minor": 0
      },
      "text/plain": [
       "Pandas Apply:   0%|          | 0/807 [00:00<?, ?it/s]"
      ]
     },
     "metadata": {},
     "output_type": "display_data"
    },
    {
     "data": {
      "application/vnd.jupyter.widget-view+json": {
       "model_id": "5deef3ce9ef04a538b7a734474801b6f",
       "version_major": 2,
       "version_minor": 0
      },
      "text/plain": [
       "Pandas Apply:   0%|          | 0/807 [00:00<?, ?it/s]"
      ]
     },
     "metadata": {},
     "output_type": "display_data"
    },
    {
     "data": {
      "application/vnd.jupyter.widget-view+json": {
       "model_id": "20252548d4584755a3cca86b721972e6",
       "version_major": 2,
       "version_minor": 0
      },
      "text/plain": [
       "Pandas Apply:   0%|          | 0/807 [00:00<?, ?it/s]"
      ]
     },
     "metadata": {},
     "output_type": "display_data"
    },
    {
     "data": {
      "application/vnd.jupyter.widget-view+json": {
       "model_id": "e4b1340a6f3a4744ae3ec2bbfa91990a",
       "version_major": 2,
       "version_minor": 0
      },
      "text/plain": [
       "Pandas Apply:   0%|          | 0/807 [00:00<?, ?it/s]"
      ]
     },
     "metadata": {},
     "output_type": "display_data"
    },
    {
     "data": {
      "text/html": [
       "<div>\n",
       "<style scoped>\n",
       "    .dataframe tbody tr th:only-of-type {\n",
       "        vertical-align: middle;\n",
       "    }\n",
       "\n",
       "    .dataframe tbody tr th {\n",
       "        vertical-align: top;\n",
       "    }\n",
       "\n",
       "    .dataframe thead th {\n",
       "        text-align: right;\n",
       "    }\n",
       "</style>\n",
       "<table border=\"1\" class=\"dataframe\">\n",
       "  <thead>\n",
       "    <tr style=\"text-align: right;\">\n",
       "      <th></th>\n",
       "      <th>appid</th>\n",
       "      <th>name</th>\n",
       "      <th>categories</th>\n",
       "      <th>genres</th>\n",
       "      <th>tags</th>\n",
       "    </tr>\n",
       "  </thead>\n",
       "  <tbody>\n",
       "    <tr>\n",
       "      <th>0</th>\n",
       "      <td>10</td>\n",
       "      <td>Counter-Strike</td>\n",
       "      <td>[multi-player, pvp, online pvp, shared/split s...</td>\n",
       "      <td>[action]</td>\n",
       "      <td>[fps, multiplayer, shooter, classic, team-base...</td>\n",
       "    </tr>\n",
       "    <tr>\n",
       "      <th>1</th>\n",
       "      <td>20</td>\n",
       "      <td>Team Fortress Classic</td>\n",
       "      <td>[multi-player, pvp, online pvp, shared/split s...</td>\n",
       "      <td>[action]</td>\n",
       "      <td>[fps, multiplayer, classic, hero shooter, shoo...</td>\n",
       "    </tr>\n",
       "    <tr>\n",
       "      <th>2</th>\n",
       "      <td>30</td>\n",
       "      <td>Day of Defeat</td>\n",
       "      <td>[multi-player, valve anti-cheat enabled]</td>\n",
       "      <td>[action]</td>\n",
       "      <td>[fps, world war ii, multiplayer, shooter, war,...</td>\n",
       "    </tr>\n",
       "    <tr>\n",
       "      <th>3</th>\n",
       "      <td>40</td>\n",
       "      <td>Deathmatch Classic</td>\n",
       "      <td>[multi-player, pvp, online pvp, shared/split s...</td>\n",
       "      <td>[action]</td>\n",
       "      <td>[fps, classic, multiplayer, shooter, first-per...</td>\n",
       "    </tr>\n",
       "    <tr>\n",
       "      <th>4</th>\n",
       "      <td>50</td>\n",
       "      <td>Half-Life: Opposing Force</td>\n",
       "      <td>[single-player, multi-player, valve anti-cheat...</td>\n",
       "      <td>[action]</td>\n",
       "      <td>[fps, classic, sci-fi, singleplayer, shooter, ...</td>\n",
       "    </tr>\n",
       "    <tr>\n",
       "      <th>5</th>\n",
       "      <td>60</td>\n",
       "      <td>Ricochet</td>\n",
       "      <td>[multi-player, pvp, online pvp, valve anti-che...</td>\n",
       "      <td>[action]</td>\n",
       "      <td>[fps, multiplayer, classic, first-person, sci-...</td>\n",
       "    </tr>\n",
       "    <tr>\n",
       "      <th>6</th>\n",
       "      <td>70</td>\n",
       "      <td>Half-Life</td>\n",
       "      <td>[single-player, multi-player, pvp, online pvp,...</td>\n",
       "      <td>[action]</td>\n",
       "      <td>[fps, sci-fi, singleplayer, 1990's, shooter, m...</td>\n",
       "    </tr>\n",
       "    <tr>\n",
       "      <th>7</th>\n",
       "      <td>80</td>\n",
       "      <td>Counter-Strike: Condition Zero</td>\n",
       "      <td>[single-player, multi-player, valve anti-cheat...</td>\n",
       "      <td>[action]</td>\n",
       "      <td>[fps, shooter, multiplayer, first-person, clas...</td>\n",
       "    </tr>\n",
       "    <tr>\n",
       "      <th>8</th>\n",
       "      <td>130</td>\n",
       "      <td>Half-Life: Blue Shift</td>\n",
       "      <td>[single-player, remote play together]</td>\n",
       "      <td>[action]</td>\n",
       "      <td>[fps, sci-fi, singleplayer, shooter, aliens, c...</td>\n",
       "    </tr>\n",
       "    <tr>\n",
       "      <th>9</th>\n",
       "      <td>220</td>\n",
       "      <td>Half-Life 2</td>\n",
       "      <td>[single-player, steam achievements, steam trad...</td>\n",
       "      <td>[action]</td>\n",
       "      <td>[fps, sci-fi, classic, singleplayer, story ric...</td>\n",
       "    </tr>\n",
       "    <tr>\n",
       "      <th>11</th>\n",
       "      <td>280</td>\n",
       "      <td>Half-Life: Source</td>\n",
       "      <td>[single-player, remote play together]</td>\n",
       "      <td>[action]</td>\n",
       "      <td>[fps, classic, sci-fi, singleplayer, shooter, ...</td>\n",
       "    </tr>\n",
       "    <tr>\n",
       "      <th>12</th>\n",
       "      <td>300</td>\n",
       "      <td>Day of Defeat: Source</td>\n",
       "      <td>[multi-player, cross-platform multiplayer, ste...</td>\n",
       "      <td>[action]</td>\n",
       "      <td>[fps, world war ii, multiplayer, shooter, team...</td>\n",
       "    </tr>\n",
       "    <tr>\n",
       "      <th>13</th>\n",
       "      <td>320</td>\n",
       "      <td>Half-Life 2: Deathmatch</td>\n",
       "      <td>[multi-player, valve anti-cheat enabled, inclu...</td>\n",
       "      <td>[action]</td>\n",
       "      <td>[fps, multiplayer, shooter, first-person, sci-...</td>\n",
       "    </tr>\n",
       "    <tr>\n",
       "      <th>14</th>\n",
       "      <td>340</td>\n",
       "      <td>Half-Life 2: Lost Coast</td>\n",
       "      <td>[single-player, commentary available, remote p...</td>\n",
       "      <td>[action]</td>\n",
       "      <td>[fps, singleplayer, first-person, sci-fi, shoo...</td>\n",
       "    </tr>\n",
       "    <tr>\n",
       "      <th>15</th>\n",
       "      <td>360</td>\n",
       "      <td>Half-Life Deathmatch: Source</td>\n",
       "      <td>[multi-player, valve anti-cheat enabled]</td>\n",
       "      <td>[action]</td>\n",
       "      <td>[fps, multiplayer, shooter, sci-fi, first-pers...</td>\n",
       "    </tr>\n",
       "    <tr>\n",
       "      <th>16</th>\n",
       "      <td>380</td>\n",
       "      <td>Half-Life 2: Episode One</td>\n",
       "      <td>[single-player, steam achievements, captions a...</td>\n",
       "      <td>[action]</td>\n",
       "      <td>[fps, sci-fi, singleplayer, story rich, first-...</td>\n",
       "    </tr>\n",
       "    <tr>\n",
       "      <th>17</th>\n",
       "      <td>400</td>\n",
       "      <td>Portal</td>\n",
       "      <td>[single-player, steam achievements, captions a...</td>\n",
       "      <td>[action]</td>\n",
       "      <td>[puzzle, puzzle-platformer, 3d platformer, fir...</td>\n",
       "    </tr>\n",
       "    <tr>\n",
       "      <th>18</th>\n",
       "      <td>420</td>\n",
       "      <td>Half-Life 2: Episode Two</td>\n",
       "      <td>[single-player, steam achievements, captions a...</td>\n",
       "      <td>[action]</td>\n",
       "      <td>[fps, sci-fi, singleplayer, shooter, story ric...</td>\n",
       "    </tr>\n",
       "    <tr>\n",
       "      <th>19</th>\n",
       "      <td>440</td>\n",
       "      <td>Team Fortress 2</td>\n",
       "      <td>[multi-player, cross-platform multiplayer, ste...</td>\n",
       "      <td>[action, free to play]</td>\n",
       "      <td>[hero shooter, multiplayer, fps, shooter, clas...</td>\n",
       "    </tr>\n",
       "    <tr>\n",
       "      <th>20</th>\n",
       "      <td>500</td>\n",
       "      <td>Left 4 Dead</td>\n",
       "      <td>[single-player, multi-player, co-op, steam ach...</td>\n",
       "      <td>[action]</td>\n",
       "      <td>[zombies, multiplayer, fps, shooter, horror, o...</td>\n",
       "    </tr>\n",
       "    <tr>\n",
       "      <th>21</th>\n",
       "      <td>550</td>\n",
       "      <td>Left 4 Dead 2</td>\n",
       "      <td>[single-player, multi-player, pvp, online pvp,...</td>\n",
       "      <td>[action]</td>\n",
       "      <td>[zombies, fps, multiplayer, shooter, online co...</td>\n",
       "    </tr>\n",
       "    <tr>\n",
       "      <th>22</th>\n",
       "      <td>570</td>\n",
       "      <td>Dota 2</td>\n",
       "      <td>[multi-player, co-op, steam trading cards, ste...</td>\n",
       "      <td>[action, free to play, strategy]</td>\n",
       "      <td>[moba, multiplayer, e-sports, team-based, comp...</td>\n",
       "    </tr>\n",
       "    <tr>\n",
       "      <th>23</th>\n",
       "      <td>620</td>\n",
       "      <td>Portal 2</td>\n",
       "      <td>[single-player, multi-player, co-op, online co...</td>\n",
       "      <td>[action, adventure]</td>\n",
       "      <td>[platformer, dark humor, puzzle, puzzle-platfo...</td>\n",
       "    </tr>\n",
       "    <tr>\n",
       "      <th>24</th>\n",
       "      <td>630</td>\n",
       "      <td>Alien Swarm</td>\n",
       "      <td>[single-player, multi-player, co-op, steam ach...</td>\n",
       "      <td>[action]</td>\n",
       "      <td>[multiplayer, online co-op, aliens, shooter, s...</td>\n",
       "    </tr>\n",
       "    <tr>\n",
       "      <th>25</th>\n",
       "      <td>730</td>\n",
       "      <td>Counter-Strike: Global Offensive</td>\n",
       "      <td>[multi-player, steam achievements, full contro...</td>\n",
       "      <td>[action, free to play]</td>\n",
       "      <td>[fps, shooter, multiplayer, competitive, team-...</td>\n",
       "    </tr>\n",
       "    <tr>\n",
       "      <th>28</th>\n",
       "      <td>1250</td>\n",
       "      <td>Killing Floor</td>\n",
       "      <td>[single-player, multi-player, co-op, cross-pla...</td>\n",
       "      <td>[action]</td>\n",
       "      <td>[fps, zombies, survival, horror, multiplayer, ...</td>\n",
       "    </tr>\n",
       "    <tr>\n",
       "      <th>43</th>\n",
       "      <td>1930</td>\n",
       "      <td>Two Worlds Epic Edition</td>\n",
       "      <td>[single-player, multi-player, pvp, online pvp,...</td>\n",
       "      <td>[rpg]</td>\n",
       "      <td>[open world, fantasy, third person, singleplay...</td>\n",
       "    </tr>\n",
       "    <tr>\n",
       "      <th>44</th>\n",
       "      <td>2100</td>\n",
       "      <td>Dark Messiah of Might &amp; Magic</td>\n",
       "      <td>[single-player, multi-player, valve anti-cheat...</td>\n",
       "      <td>[action, rpg]</td>\n",
       "      <td>[first-person, fantasy, dark fantasy, swordpla...</td>\n",
       "    </tr>\n",
       "    <tr>\n",
       "      <th>59</th>\n",
       "      <td>2400</td>\n",
       "      <td>The Ship: Murder Party</td>\n",
       "      <td>[single-player, multi-player, pvp, online pvp,...</td>\n",
       "      <td>[action, indie, rpg]</td>\n",
       "      <td>[multiplayer, first-person, stealth, mystery, ...</td>\n",
       "    </tr>\n",
       "    <tr>\n",
       "      <th>70</th>\n",
       "      <td>2630</td>\n",
       "      <td>Call of Duty® 2</td>\n",
       "      <td>[single-player, multi-player]</td>\n",
       "      <td>[action]</td>\n",
       "      <td>[world war ii, fps, multiplayer, singleplayer,...</td>\n",
       "    </tr>\n",
       "    <tr>\n",
       "      <th>72</th>\n",
       "      <td>2700</td>\n",
       "      <td>RollerCoaster Tycoon® 3: Platinum</td>\n",
       "      <td>[single-player]</td>\n",
       "      <td>[simulation, strategy]</td>\n",
       "      <td>[management, sandbox, building, singleplayer, ...</td>\n",
       "    </tr>\n",
       "    <tr>\n",
       "      <th>121</th>\n",
       "      <td>3590</td>\n",
       "      <td>Plants vs. Zombies GOTY Edition</td>\n",
       "      <td>[single-player, steam achievements, remote pla...</td>\n",
       "      <td>[strategy]</td>\n",
       "      <td>[tower defense, zombies, singleplayer, comedy,...</td>\n",
       "    </tr>\n",
       "    <tr>\n",
       "      <th>132</th>\n",
       "      <td>3830</td>\n",
       "      <td>Psychonauts</td>\n",
       "      <td>[single-player, steam achievements, steam trad...</td>\n",
       "      <td>[action]</td>\n",
       "      <td>[platformer, comedy, cult classic, singleplaye...</td>\n",
       "    </tr>\n",
       "    <tr>\n",
       "      <th>133</th>\n",
       "      <td>3900</td>\n",
       "      <td>Sid Meier's Civilization® IV</td>\n",
       "      <td>[single-player, multi-player, includes level e...</td>\n",
       "      <td>[strategy]</td>\n",
       "      <td>[turn-based strategy, turn-based, 4x, historic...</td>\n",
       "    </tr>\n",
       "    <tr>\n",
       "      <th>134</th>\n",
       "      <td>3910</td>\n",
       "      <td>Sid Meier's Civilization® III Complete</td>\n",
       "      <td>[single-player, multi-player, includes level e...</td>\n",
       "      <td>[strategy]</td>\n",
       "      <td>[turn-based strategy, turn-based, classic, 4x,...</td>\n",
       "    </tr>\n",
       "    <tr>\n",
       "      <th>138</th>\n",
       "      <td>3990</td>\n",
       "      <td>Civilization IV®: Warlords</td>\n",
       "      <td>[single-player]</td>\n",
       "      <td>[strategy]</td>\n",
       "      <td>[turn-based, 4x, turn-based strategy, historic...</td>\n",
       "    </tr>\n",
       "    <tr>\n",
       "      <th>139</th>\n",
       "      <td>4000</td>\n",
       "      <td>Garry's Mod</td>\n",
       "      <td>[single-player, multi-player, pvp, online pvp,...</td>\n",
       "      <td>[indie, simulation]</td>\n",
       "      <td>[sandbox, multiplayer, funny, moddable, buildi...</td>\n",
       "    </tr>\n",
       "    <tr>\n",
       "      <th>147</th>\n",
       "      <td>4500</td>\n",
       "      <td>S.T.A.L.K.E.R.: Shadow of Chernobyl</td>\n",
       "      <td>[single-player, multi-player, pvp, online pvp,...</td>\n",
       "      <td>[action, rpg]</td>\n",
       "      <td>[atmospheric, post-apocalyptic, open world, fp...</td>\n",
       "    </tr>\n",
       "    <tr>\n",
       "      <th>150</th>\n",
       "      <td>4560</td>\n",
       "      <td>Company of Heroes - Legacy Edition</td>\n",
       "      <td>[single-player, multi-player, steam trading ca...</td>\n",
       "      <td>[action, strategy]</td>\n",
       "      <td>[world war ii, rts, multiplayer, military, tac...</td>\n",
       "    </tr>\n",
       "    <tr>\n",
       "      <th>151</th>\n",
       "      <td>4570</td>\n",
       "      <td>Warhammer® 40,000: Dawn of War® - Game of the ...</td>\n",
       "      <td>[single-player, multi-player, steam trading ca...</td>\n",
       "      <td>[strategy]</td>\n",
       "      <td>[warhammer 40k, rts, base-building, sci-fi, mu...</td>\n",
       "    </tr>\n",
       "    <tr>\n",
       "      <th>152</th>\n",
       "      <td>4580</td>\n",
       "      <td>Warhammer® 40,000: Dawn of War® - Dark Crusade</td>\n",
       "      <td>[single-player, multi-player, steam cloud]</td>\n",
       "      <td>[strategy]</td>\n",
       "      <td>[warhammer 40k, rts, base-building, sci-fi, mu...</td>\n",
       "    </tr>\n",
       "    <tr>\n",
       "      <th>153</th>\n",
       "      <td>4700</td>\n",
       "      <td>Total War: MEDIEVAL II – Definitive Edition</td>\n",
       "      <td>[single-player, multi-player, steam trading ca...</td>\n",
       "      <td>[strategy]</td>\n",
       "      <td>[medieval, historical, turn-based strategy, gr...</td>\n",
       "    </tr>\n",
       "    <tr>\n",
       "      <th>155</th>\n",
       "      <td>4760</td>\n",
       "      <td>Rome: Total War™ - Collection</td>\n",
       "      <td>[single-player, multi-player, steam trading ca...</td>\n",
       "      <td>[strategy]</td>\n",
       "      <td>[historical, rome, turn-based strategy, rts, g...</td>\n",
       "    </tr>\n",
       "    <tr>\n",
       "      <th>164</th>\n",
       "      <td>4920</td>\n",
       "      <td>Natural Selection 2</td>\n",
       "      <td>[multi-player, pvp, online pvp, steam achievem...</td>\n",
       "      <td>[action, indie, strategy]</td>\n",
       "      <td>[multiplayer, fps, team-based, sci-fi, rts, al...</td>\n",
       "    </tr>\n",
       "    <tr>\n",
       "      <th>165</th>\n",
       "      <td>6000</td>\n",
       "      <td>STAR WARS™ Republic Commando™</td>\n",
       "      <td>[single-player, multi-player, pvp, shared/spli...</td>\n",
       "      <td>[action]</td>\n",
       "      <td>[fps, tactical, sci-fi, singleplayer, shooter,...</td>\n",
       "    </tr>\n",
       "    <tr>\n",
       "      <th>167</th>\n",
       "      <td>6020</td>\n",
       "      <td>STAR WARS™ Jedi Knight - Jedi Academy™</td>\n",
       "      <td>[single-player, multi-player, pvp, online pvp,...</td>\n",
       "      <td>[action]</td>\n",
       "      <td>[sci-fi, third person, multiplayer, classic, s...</td>\n",
       "    </tr>\n",
       "    <tr>\n",
       "      <th>170</th>\n",
       "      <td>6060</td>\n",
       "      <td>Star Wars: Battlefront 2 (Classic, 2005)</td>\n",
       "      <td>[single-player, multi-player, pvp, online pvp,...</td>\n",
       "      <td>[action]</td>\n",
       "      <td>[multiplayer, shooter, third-person shooter, c...</td>\n",
       "    </tr>\n",
       "    <tr>\n",
       "      <th>191</th>\n",
       "      <td>6850</td>\n",
       "      <td>Hitman 2: Silent Assassin</td>\n",
       "      <td>[single-player, steam cloud]</td>\n",
       "      <td>[action]</td>\n",
       "      <td>[stealth, third person, assassin, singleplayer...</td>\n",
       "    </tr>\n",
       "    <tr>\n",
       "      <th>192</th>\n",
       "      <td>6860</td>\n",
       "      <td>Hitman: Blood Money</td>\n",
       "      <td>[single-player, steam cloud]</td>\n",
       "      <td>[action]</td>\n",
       "      <td>[stealth, assassin, singleplayer, third person...</td>\n",
       "    </tr>\n",
       "    <tr>\n",
       "      <th>194</th>\n",
       "      <td>6880</td>\n",
       "      <td>Just Cause</td>\n",
       "      <td>[single-player]</td>\n",
       "      <td>[action]</td>\n",
       "      <td>[open world, shooter, third person, singleplay...</td>\n",
       "    </tr>\n",
       "  </tbody>\n",
       "</table>\n",
       "</div>"
      ],
      "text/plain": [
       "     appid                                               name  \\\n",
       "0       10                                     Counter-Strike   \n",
       "1       20                              Team Fortress Classic   \n",
       "2       30                                      Day of Defeat   \n",
       "3       40                                 Deathmatch Classic   \n",
       "4       50                          Half-Life: Opposing Force   \n",
       "5       60                                           Ricochet   \n",
       "6       70                                          Half-Life   \n",
       "7       80                     Counter-Strike: Condition Zero   \n",
       "8      130                              Half-Life: Blue Shift   \n",
       "9      220                                        Half-Life 2   \n",
       "11     280                                  Half-Life: Source   \n",
       "12     300                              Day of Defeat: Source   \n",
       "13     320                            Half-Life 2: Deathmatch   \n",
       "14     340                            Half-Life 2: Lost Coast   \n",
       "15     360                       Half-Life Deathmatch: Source   \n",
       "16     380                           Half-Life 2: Episode One   \n",
       "17     400                                             Portal   \n",
       "18     420                           Half-Life 2: Episode Two   \n",
       "19     440                                    Team Fortress 2   \n",
       "20     500                                        Left 4 Dead   \n",
       "21     550                                      Left 4 Dead 2   \n",
       "22     570                                             Dota 2   \n",
       "23     620                                           Portal 2   \n",
       "24     630                                        Alien Swarm   \n",
       "25     730                   Counter-Strike: Global Offensive   \n",
       "28    1250                                      Killing Floor   \n",
       "43    1930                            Two Worlds Epic Edition   \n",
       "44    2100                      Dark Messiah of Might & Magic   \n",
       "59    2400                             The Ship: Murder Party   \n",
       "70    2630                                    Call of Duty® 2   \n",
       "72    2700                  RollerCoaster Tycoon® 3: Platinum   \n",
       "121   3590                    Plants vs. Zombies GOTY Edition   \n",
       "132   3830                                        Psychonauts   \n",
       "133   3900                       Sid Meier's Civilization® IV   \n",
       "134   3910             Sid Meier's Civilization® III Complete   \n",
       "138   3990                         Civilization IV®: Warlords   \n",
       "139   4000                                        Garry's Mod   \n",
       "147   4500                S.T.A.L.K.E.R.: Shadow of Chernobyl   \n",
       "150   4560                 Company of Heroes - Legacy Edition   \n",
       "151   4570  Warhammer® 40,000: Dawn of War® - Game of the ...   \n",
       "152   4580     Warhammer® 40,000: Dawn of War® - Dark Crusade   \n",
       "153   4700        Total War: MEDIEVAL II – Definitive Edition   \n",
       "155   4760                      Rome: Total War™ - Collection   \n",
       "164   4920                                Natural Selection 2   \n",
       "165   6000                      STAR WARS™ Republic Commando™   \n",
       "167   6020             STAR WARS™ Jedi Knight - Jedi Academy™   \n",
       "170   6060           Star Wars: Battlefront 2 (Classic, 2005)   \n",
       "191   6850                          Hitman 2: Silent Assassin   \n",
       "192   6860                                Hitman: Blood Money   \n",
       "194   6880                                         Just Cause   \n",
       "\n",
       "                                            categories  \\\n",
       "0    [multi-player, pvp, online pvp, shared/split s...   \n",
       "1    [multi-player, pvp, online pvp, shared/split s...   \n",
       "2             [multi-player, valve anti-cheat enabled]   \n",
       "3    [multi-player, pvp, online pvp, shared/split s...   \n",
       "4    [single-player, multi-player, valve anti-cheat...   \n",
       "5    [multi-player, pvp, online pvp, valve anti-che...   \n",
       "6    [single-player, multi-player, pvp, online pvp,...   \n",
       "7    [single-player, multi-player, valve anti-cheat...   \n",
       "8                [single-player, remote play together]   \n",
       "9    [single-player, steam achievements, steam trad...   \n",
       "11               [single-player, remote play together]   \n",
       "12   [multi-player, cross-platform multiplayer, ste...   \n",
       "13   [multi-player, valve anti-cheat enabled, inclu...   \n",
       "14   [single-player, commentary available, remote p...   \n",
       "15            [multi-player, valve anti-cheat enabled]   \n",
       "16   [single-player, steam achievements, captions a...   \n",
       "17   [single-player, steam achievements, captions a...   \n",
       "18   [single-player, steam achievements, captions a...   \n",
       "19   [multi-player, cross-platform multiplayer, ste...   \n",
       "20   [single-player, multi-player, co-op, steam ach...   \n",
       "21   [single-player, multi-player, pvp, online pvp,...   \n",
       "22   [multi-player, co-op, steam trading cards, ste...   \n",
       "23   [single-player, multi-player, co-op, online co...   \n",
       "24   [single-player, multi-player, co-op, steam ach...   \n",
       "25   [multi-player, steam achievements, full contro...   \n",
       "28   [single-player, multi-player, co-op, cross-pla...   \n",
       "43   [single-player, multi-player, pvp, online pvp,...   \n",
       "44   [single-player, multi-player, valve anti-cheat...   \n",
       "59   [single-player, multi-player, pvp, online pvp,...   \n",
       "70                       [single-player, multi-player]   \n",
       "72                                     [single-player]   \n",
       "121  [single-player, steam achievements, remote pla...   \n",
       "132  [single-player, steam achievements, steam trad...   \n",
       "133  [single-player, multi-player, includes level e...   \n",
       "134  [single-player, multi-player, includes level e...   \n",
       "138                                    [single-player]   \n",
       "139  [single-player, multi-player, pvp, online pvp,...   \n",
       "147  [single-player, multi-player, pvp, online pvp,...   \n",
       "150  [single-player, multi-player, steam trading ca...   \n",
       "151  [single-player, multi-player, steam trading ca...   \n",
       "152         [single-player, multi-player, steam cloud]   \n",
       "153  [single-player, multi-player, steam trading ca...   \n",
       "155  [single-player, multi-player, steam trading ca...   \n",
       "164  [multi-player, pvp, online pvp, steam achievem...   \n",
       "165  [single-player, multi-player, pvp, shared/spli...   \n",
       "167  [single-player, multi-player, pvp, online pvp,...   \n",
       "170  [single-player, multi-player, pvp, online pvp,...   \n",
       "191                       [single-player, steam cloud]   \n",
       "192                       [single-player, steam cloud]   \n",
       "194                                    [single-player]   \n",
       "\n",
       "                               genres  \\\n",
       "0                            [action]   \n",
       "1                            [action]   \n",
       "2                            [action]   \n",
       "3                            [action]   \n",
       "4                            [action]   \n",
       "5                            [action]   \n",
       "6                            [action]   \n",
       "7                            [action]   \n",
       "8                            [action]   \n",
       "9                            [action]   \n",
       "11                           [action]   \n",
       "12                           [action]   \n",
       "13                           [action]   \n",
       "14                           [action]   \n",
       "15                           [action]   \n",
       "16                           [action]   \n",
       "17                           [action]   \n",
       "18                           [action]   \n",
       "19             [action, free to play]   \n",
       "20                           [action]   \n",
       "21                           [action]   \n",
       "22   [action, free to play, strategy]   \n",
       "23                [action, adventure]   \n",
       "24                           [action]   \n",
       "25             [action, free to play]   \n",
       "28                           [action]   \n",
       "43                              [rpg]   \n",
       "44                      [action, rpg]   \n",
       "59               [action, indie, rpg]   \n",
       "70                           [action]   \n",
       "72             [simulation, strategy]   \n",
       "121                        [strategy]   \n",
       "132                          [action]   \n",
       "133                        [strategy]   \n",
       "134                        [strategy]   \n",
       "138                        [strategy]   \n",
       "139               [indie, simulation]   \n",
       "147                     [action, rpg]   \n",
       "150                [action, strategy]   \n",
       "151                        [strategy]   \n",
       "152                        [strategy]   \n",
       "153                        [strategy]   \n",
       "155                        [strategy]   \n",
       "164         [action, indie, strategy]   \n",
       "165                          [action]   \n",
       "167                          [action]   \n",
       "170                          [action]   \n",
       "191                          [action]   \n",
       "192                          [action]   \n",
       "194                          [action]   \n",
       "\n",
       "                                                  tags  \n",
       "0    [fps, multiplayer, shooter, classic, team-base...  \n",
       "1    [fps, multiplayer, classic, hero shooter, shoo...  \n",
       "2    [fps, world war ii, multiplayer, shooter, war,...  \n",
       "3    [fps, classic, multiplayer, shooter, first-per...  \n",
       "4    [fps, classic, sci-fi, singleplayer, shooter, ...  \n",
       "5    [fps, multiplayer, classic, first-person, sci-...  \n",
       "6    [fps, sci-fi, singleplayer, 1990's, shooter, m...  \n",
       "7    [fps, shooter, multiplayer, first-person, clas...  \n",
       "8    [fps, sci-fi, singleplayer, shooter, aliens, c...  \n",
       "9    [fps, sci-fi, classic, singleplayer, story ric...  \n",
       "11   [fps, classic, sci-fi, singleplayer, shooter, ...  \n",
       "12   [fps, world war ii, multiplayer, shooter, team...  \n",
       "13   [fps, multiplayer, shooter, first-person, sci-...  \n",
       "14   [fps, singleplayer, first-person, sci-fi, shoo...  \n",
       "15   [fps, multiplayer, shooter, sci-fi, first-pers...  \n",
       "16   [fps, sci-fi, singleplayer, story rich, first-...  \n",
       "17   [puzzle, puzzle-platformer, 3d platformer, fir...  \n",
       "18   [fps, sci-fi, singleplayer, shooter, story ric...  \n",
       "19   [hero shooter, multiplayer, fps, shooter, clas...  \n",
       "20   [zombies, multiplayer, fps, shooter, horror, o...  \n",
       "21   [zombies, fps, multiplayer, shooter, online co...  \n",
       "22   [moba, multiplayer, e-sports, team-based, comp...  \n",
       "23   [platformer, dark humor, puzzle, puzzle-platfo...  \n",
       "24   [multiplayer, online co-op, aliens, shooter, s...  \n",
       "25   [fps, shooter, multiplayer, competitive, team-...  \n",
       "28   [fps, zombies, survival, horror, multiplayer, ...  \n",
       "43   [open world, fantasy, third person, singleplay...  \n",
       "44   [first-person, fantasy, dark fantasy, swordpla...  \n",
       "59   [multiplayer, first-person, stealth, mystery, ...  \n",
       "70   [world war ii, fps, multiplayer, singleplayer,...  \n",
       "72   [management, sandbox, building, singleplayer, ...  \n",
       "121  [tower defense, zombies, singleplayer, comedy,...  \n",
       "132  [platformer, comedy, cult classic, singleplaye...  \n",
       "133  [turn-based strategy, turn-based, 4x, historic...  \n",
       "134  [turn-based strategy, turn-based, classic, 4x,...  \n",
       "138  [turn-based, 4x, turn-based strategy, historic...  \n",
       "139  [sandbox, multiplayer, funny, moddable, buildi...  \n",
       "147  [atmospheric, post-apocalyptic, open world, fp...  \n",
       "150  [world war ii, rts, multiplayer, military, tac...  \n",
       "151  [warhammer 40k, rts, base-building, sci-fi, mu...  \n",
       "152  [warhammer 40k, rts, base-building, sci-fi, mu...  \n",
       "153  [medieval, historical, turn-based strategy, gr...  \n",
       "155  [historical, rome, turn-based strategy, rts, g...  \n",
       "164  [multiplayer, fps, team-based, sci-fi, rts, al...  \n",
       "165  [fps, tactical, sci-fi, singleplayer, shooter,...  \n",
       "167  [sci-fi, third person, multiplayer, classic, s...  \n",
       "170  [multiplayer, shooter, third-person shooter, c...  \n",
       "191  [stealth, third person, assassin, singleplayer...  \n",
       "192  [stealth, assassin, singleplayer, third person...  \n",
       "194  [open world, shooter, third person, singleplay...  "
      ]
     },
     "execution_count": 333,
     "metadata": {},
     "output_type": "execute_result"
    }
   ],
   "source": [
    "df = pd.read_csv('data/combined_cleaned.csv')\n",
    "df = df[df['owners'] > 1000000][['appid','name','categories','genres','tags']]\n",
    "df['tags'] = df['tags'].swifter.apply(lambda x: x.lower())\n",
    "df['categories'] = df['categories'].swifter.apply(lambda x: x.lower())\n",
    "df['genres'] = df['genres'].swifter.apply(lambda x: x.lower())\n",
    "\n",
    "df['tags'] = df['tags'].swifter.apply(lambda x: x.split(', '))\n",
    "df['categories'] = df['categories'].swifter.apply(lambda x: x.split(', '))\n",
    "df['genres'] = df['genres'].swifter.apply(lambda x: x.split(', '))\n",
    "\n",
    "df.head(50)"
   ]
  },
  {
   "cell_type": "code",
   "execution_count": 334,
   "id": "ca9ee41d-7290-40dc-a7f0-2a69f1d755b3",
   "metadata": {},
   "outputs": [],
   "source": [
    "categories_list = flatten(df['categories'].tolist())\n",
    "categories_set = set(categories_list)\n",
    "categories_set = categories_set | set([x.replace('-','') for x in categories_set])"
   ]
  },
  {
   "cell_type": "code",
   "execution_count": 335,
   "id": "b7f68b54-f3e7-4f78-9461-86ad37e3630a",
   "metadata": {},
   "outputs": [],
   "source": [
    "tags_list = flatten(df['tags'].tolist())\n",
    "tags_set = set(tags_list)"
   ]
  },
  {
   "cell_type": "code",
   "execution_count": 336,
   "id": "2789dfa4-d062-4471-8d0b-ca2df9bd40f5",
   "metadata": {},
   "outputs": [],
   "source": [
    "counted = Counter(tags_list)\n"
   ]
  },
  {
   "cell_type": "code",
   "execution_count": 337,
   "id": "20b8e7c4-8e54-4956-8f34-354671e3696a",
   "metadata": {},
   "outputs": [
    {
     "data": {
      "application/vnd.jupyter.widget-view+json": {
       "model_id": "5e90a78ee4054d90b403a3bb553c9682",
       "version_major": 2,
       "version_minor": 0
      },
      "text/plain": [
       "Pandas Apply:   0%|          | 0/807 [00:00<?, ?it/s]"
      ]
     },
     "metadata": {},
     "output_type": "display_data"
    }
   ],
   "source": [
    "to_delete = (\n",
    "    [x[0] for x in counted.most_common()[:7]] \n",
    "    + list(categories_set)\n",
    "#     + [x[0] for x in counted.most_common() if x[1] < 15]\n",
    ")\n",
    "df['tags'] = df['tags'].swifter.apply(lambda x: [y for y in x if y not in to_delete])"
   ]
  },
  {
   "cell_type": "code",
   "execution_count": 338,
   "id": "e482793b-2bb0-4e8c-80db-d6c03a978a6e",
   "metadata": {},
   "outputs": [
    {
     "data": {
      "application/vnd.jupyter.widget-view+json": {
       "model_id": "74fd1bb19dc14fdcb78f385209989459",
       "version_major": 2,
       "version_minor": 0
      },
      "text/plain": [
       "Pandas Apply:   0%|          | 0/807 [00:00<?, ?it/s]"
      ]
     },
     "metadata": {},
     "output_type": "display_data"
    }
   ],
   "source": [
    "top_tags_list = (df['tags'].swifter.apply(lambda x: x[0]).tolist())\n",
    "top_counted = Counter(top_tags_list)"
   ]
  },
  {
   "cell_type": "code",
   "execution_count": 339,
   "id": "e205ca5a-42a8-4601-a74a-b7384686fa13",
   "metadata": {},
   "outputs": [
    {
     "data": {
      "text/plain": [
       "1"
      ]
     },
     "execution_count": 339,
     "metadata": {},
     "output_type": "execute_result"
    }
   ],
   "source": [
    "top_counted.most_common()[-1][1]"
   ]
  },
  {
   "cell_type": "code",
   "execution_count": 340,
   "id": "69ce2199-c564-441f-8c0f-80d3b4ee22e4",
   "metadata": {},
   "outputs": [
    {
     "name": "stdout",
     "output_type": "stream",
     "text": [
      "1\n"
     ]
    },
    {
     "data": {
      "application/vnd.jupyter.widget-view+json": {
       "model_id": "efa05ca3718b458aa4dbfcab1a71af53",
       "version_major": 2,
       "version_minor": 0
      },
      "text/plain": [
       "Pandas Apply:   0%|          | 0/807 [00:00<?, ?it/s]"
      ]
     },
     "metadata": {},
     "output_type": "display_data"
    },
    {
     "data": {
      "application/vnd.jupyter.widget-view+json": {
       "model_id": "17629cc75ce3430195121c7043c1bf21",
       "version_major": 2,
       "version_minor": 0
      },
      "text/plain": [
       "Pandas Apply:   0%|          | 0/807 [00:00<?, ?it/s]"
      ]
     },
     "metadata": {},
     "output_type": "display_data"
    },
    {
     "name": "stdout",
     "output_type": "stream",
     "text": [
      "1\n"
     ]
    },
    {
     "data": {
      "application/vnd.jupyter.widget-view+json": {
       "model_id": "2ce27071bbf049e99c317815f82cb596",
       "version_major": 2,
       "version_minor": 0
      },
      "text/plain": [
       "Pandas Apply:   0%|          | 0/807 [00:00<?, ?it/s]"
      ]
     },
     "metadata": {},
     "output_type": "display_data"
    },
    {
     "data": {
      "application/vnd.jupyter.widget-view+json": {
       "model_id": "996affd51a854890b4734f6bfc863e6e",
       "version_major": 2,
       "version_minor": 0
      },
      "text/plain": [
       "Pandas Apply:   0%|          | 0/807 [00:00<?, ?it/s]"
      ]
     },
     "metadata": {},
     "output_type": "display_data"
    },
    {
     "name": "stdout",
     "output_type": "stream",
     "text": [
      "1\n"
     ]
    },
    {
     "data": {
      "application/vnd.jupyter.widget-view+json": {
       "model_id": "724904e45af74587b1c6a8e0acf5bcca",
       "version_major": 2,
       "version_minor": 0
      },
      "text/plain": [
       "Pandas Apply:   0%|          | 0/807 [00:00<?, ?it/s]"
      ]
     },
     "metadata": {},
     "output_type": "display_data"
    },
    {
     "data": {
      "application/vnd.jupyter.widget-view+json": {
       "model_id": "65c9d406aeaa49709a1c4ab70a82bab2",
       "version_major": 2,
       "version_minor": 0
      },
      "text/plain": [
       "Pandas Apply:   0%|          | 0/807 [00:00<?, ?it/s]"
      ]
     },
     "metadata": {},
     "output_type": "display_data"
    },
    {
     "name": "stdout",
     "output_type": "stream",
     "text": [
      "2\n"
     ]
    },
    {
     "data": {
      "application/vnd.jupyter.widget-view+json": {
       "model_id": "651c40f927344656845a8c74fa6c44bf",
       "version_major": 2,
       "version_minor": 0
      },
      "text/plain": [
       "Pandas Apply:   0%|          | 0/807 [00:00<?, ?it/s]"
      ]
     },
     "metadata": {},
     "output_type": "display_data"
    },
    {
     "data": {
      "application/vnd.jupyter.widget-view+json": {
       "model_id": "31d48511ca4d4982b13d99dc66047144",
       "version_major": 2,
       "version_minor": 0
      },
      "text/plain": [
       "Pandas Apply:   0%|          | 0/807 [00:00<?, ?it/s]"
      ]
     },
     "metadata": {},
     "output_type": "display_data"
    },
    {
     "name": "stdout",
     "output_type": "stream",
     "text": [
      "1\n"
     ]
    },
    {
     "data": {
      "application/vnd.jupyter.widget-view+json": {
       "model_id": "073d69be614b4e90bbf9ee97b9c8a8f0",
       "version_major": 2,
       "version_minor": 0
      },
      "text/plain": [
       "Pandas Apply:   0%|          | 0/807 [00:00<?, ?it/s]"
      ]
     },
     "metadata": {},
     "output_type": "display_data"
    },
    {
     "data": {
      "application/vnd.jupyter.widget-view+json": {
       "model_id": "7c6096c876e24b59911b690a9802d43d",
       "version_major": 2,
       "version_minor": 0
      },
      "text/plain": [
       "Pandas Apply:   0%|          | 0/807 [00:00<?, ?it/s]"
      ]
     },
     "metadata": {},
     "output_type": "display_data"
    },
    {
     "name": "stdout",
     "output_type": "stream",
     "text": [
      "1\n"
     ]
    },
    {
     "data": {
      "application/vnd.jupyter.widget-view+json": {
       "model_id": "dba84b05129a448d815d026be60da78d",
       "version_major": 2,
       "version_minor": 0
      },
      "text/plain": [
       "Pandas Apply:   0%|          | 0/807 [00:00<?, ?it/s]"
      ]
     },
     "metadata": {},
     "output_type": "display_data"
    },
    {
     "data": {
      "application/vnd.jupyter.widget-view+json": {
       "model_id": "ea5ee84304124433b3d720fe7e1c2f0d",
       "version_major": 2,
       "version_minor": 0
      },
      "text/plain": [
       "Pandas Apply:   0%|          | 0/807 [00:00<?, ?it/s]"
      ]
     },
     "metadata": {},
     "output_type": "display_data"
    },
    {
     "name": "stdout",
     "output_type": "stream",
     "text": [
      "1\n"
     ]
    },
    {
     "data": {
      "application/vnd.jupyter.widget-view+json": {
       "model_id": "dc0d2abfc1bf442cbe79f63275f8e227",
       "version_major": 2,
       "version_minor": 0
      },
      "text/plain": [
       "Pandas Apply:   0%|          | 0/807 [00:00<?, ?it/s]"
      ]
     },
     "metadata": {},
     "output_type": "display_data"
    },
    {
     "data": {
      "application/vnd.jupyter.widget-view+json": {
       "model_id": "ee76323f7f7249cba4c6bc6938acd216",
       "version_major": 2,
       "version_minor": 0
      },
      "text/plain": [
       "Pandas Apply:   0%|          | 0/807 [00:00<?, ?it/s]"
      ]
     },
     "metadata": {},
     "output_type": "display_data"
    },
    {
     "name": "stdout",
     "output_type": "stream",
     "text": [
      "1\n"
     ]
    },
    {
     "data": {
      "application/vnd.jupyter.widget-view+json": {
       "model_id": "71226a6ba33f4232aeb15e84e7e15d4d",
       "version_major": 2,
       "version_minor": 0
      },
      "text/plain": [
       "Pandas Apply:   0%|          | 0/807 [00:00<?, ?it/s]"
      ]
     },
     "metadata": {},
     "output_type": "display_data"
    },
    {
     "data": {
      "application/vnd.jupyter.widget-view+json": {
       "model_id": "c87230b8dab842f3b39a50fbd737f8d2",
       "version_major": 2,
       "version_minor": 0
      },
      "text/plain": [
       "Pandas Apply:   0%|          | 0/807 [00:00<?, ?it/s]"
      ]
     },
     "metadata": {},
     "output_type": "display_data"
    },
    {
     "name": "stdout",
     "output_type": "stream",
     "text": [
      "2\n"
     ]
    },
    {
     "data": {
      "application/vnd.jupyter.widget-view+json": {
       "model_id": "8101f2896e704f7b9cb372be7ab1eb6c",
       "version_major": 2,
       "version_minor": 0
      },
      "text/plain": [
       "Pandas Apply:   0%|          | 0/807 [00:00<?, ?it/s]"
      ]
     },
     "metadata": {},
     "output_type": "display_data"
    },
    {
     "data": {
      "application/vnd.jupyter.widget-view+json": {
       "model_id": "43b305849dc64c81b0fbeb545e9fcf77",
       "version_major": 2,
       "version_minor": 0
      },
      "text/plain": [
       "Pandas Apply:   0%|          | 0/807 [00:00<?, ?it/s]"
      ]
     },
     "metadata": {},
     "output_type": "display_data"
    },
    {
     "name": "stdout",
     "output_type": "stream",
     "text": [
      "3\n"
     ]
    },
    {
     "data": {
      "application/vnd.jupyter.widget-view+json": {
       "model_id": "a871f4c595054ade9402b3cf2c95cee4",
       "version_major": 2,
       "version_minor": 0
      },
      "text/plain": [
       "Pandas Apply:   0%|          | 0/807 [00:00<?, ?it/s]"
      ]
     },
     "metadata": {},
     "output_type": "display_data"
    },
    {
     "data": {
      "application/vnd.jupyter.widget-view+json": {
       "model_id": "b2a0b864770b4d8fb160012f4297ece4",
       "version_major": 2,
       "version_minor": 0
      },
      "text/plain": [
       "Pandas Apply:   0%|          | 0/807 [00:00<?, ?it/s]"
      ]
     },
     "metadata": {},
     "output_type": "display_data"
    },
    {
     "name": "stdout",
     "output_type": "stream",
     "text": [
      "1\n"
     ]
    },
    {
     "data": {
      "application/vnd.jupyter.widget-view+json": {
       "model_id": "665c6d63fc9a40e4928824c398c2b832",
       "version_major": 2,
       "version_minor": 0
      },
      "text/plain": [
       "Pandas Apply:   0%|          | 0/807 [00:00<?, ?it/s]"
      ]
     },
     "metadata": {},
     "output_type": "display_data"
    },
    {
     "data": {
      "application/vnd.jupyter.widget-view+json": {
       "model_id": "4cd3bf29e4cd4f1f8bb49b6f09ed253d",
       "version_major": 2,
       "version_minor": 0
      },
      "text/plain": [
       "Pandas Apply:   0%|          | 0/807 [00:00<?, ?it/s]"
      ]
     },
     "metadata": {},
     "output_type": "display_data"
    },
    {
     "name": "stdout",
     "output_type": "stream",
     "text": [
      "4\n"
     ]
    },
    {
     "data": {
      "application/vnd.jupyter.widget-view+json": {
       "model_id": "91182f10de3c423395b2a6a34539843b",
       "version_major": 2,
       "version_minor": 0
      },
      "text/plain": [
       "Pandas Apply:   0%|          | 0/807 [00:00<?, ?it/s]"
      ]
     },
     "metadata": {},
     "output_type": "display_data"
    },
    {
     "data": {
      "application/vnd.jupyter.widget-view+json": {
       "model_id": "2424155b3b3d4f3c9bc70e3d1377f3f8",
       "version_major": 2,
       "version_minor": 0
      },
      "text/plain": [
       "Pandas Apply:   0%|          | 0/807 [00:00<?, ?it/s]"
      ]
     },
     "metadata": {},
     "output_type": "display_data"
    },
    {
     "name": "stdout",
     "output_type": "stream",
     "text": [
      "1\n"
     ]
    },
    {
     "data": {
      "application/vnd.jupyter.widget-view+json": {
       "model_id": "46d1c3af2e35440ca3922618532fbfab",
       "version_major": 2,
       "version_minor": 0
      },
      "text/plain": [
       "Pandas Apply:   0%|          | 0/807 [00:00<?, ?it/s]"
      ]
     },
     "metadata": {},
     "output_type": "display_data"
    },
    {
     "data": {
      "application/vnd.jupyter.widget-view+json": {
       "model_id": "b1c4448c096643a1a17cac564710391e",
       "version_major": 2,
       "version_minor": 0
      },
      "text/plain": [
       "Pandas Apply:   0%|          | 0/807 [00:00<?, ?it/s]"
      ]
     },
     "metadata": {},
     "output_type": "display_data"
    },
    {
     "name": "stdout",
     "output_type": "stream",
     "text": [
      "3\n"
     ]
    },
    {
     "data": {
      "application/vnd.jupyter.widget-view+json": {
       "model_id": "3641375630a8495ca9b2bf04ecbd6d3d",
       "version_major": 2,
       "version_minor": 0
      },
      "text/plain": [
       "Pandas Apply:   0%|          | 0/807 [00:00<?, ?it/s]"
      ]
     },
     "metadata": {},
     "output_type": "display_data"
    },
    {
     "data": {
      "application/vnd.jupyter.widget-view+json": {
       "model_id": "0d1969691d0e4eba96d69addf302b981",
       "version_major": 2,
       "version_minor": 0
      },
      "text/plain": [
       "Pandas Apply:   0%|          | 0/807 [00:00<?, ?it/s]"
      ]
     },
     "metadata": {},
     "output_type": "display_data"
    },
    {
     "name": "stdout",
     "output_type": "stream",
     "text": [
      "5\n"
     ]
    },
    {
     "data": {
      "application/vnd.jupyter.widget-view+json": {
       "model_id": "819f75ff597d403daa8a87eec6993ecd",
       "version_major": 2,
       "version_minor": 0
      },
      "text/plain": [
       "Pandas Apply:   0%|          | 0/807 [00:00<?, ?it/s]"
      ]
     },
     "metadata": {},
     "output_type": "display_data"
    },
    {
     "data": {
      "application/vnd.jupyter.widget-view+json": {
       "model_id": "829272fd817044a8977b5f47e5881bc5",
       "version_major": 2,
       "version_minor": 0
      },
      "text/plain": [
       "Pandas Apply:   0%|          | 0/807 [00:00<?, ?it/s]"
      ]
     },
     "metadata": {},
     "output_type": "display_data"
    },
    {
     "name": "stdout",
     "output_type": "stream",
     "text": [
      "1\n"
     ]
    },
    {
     "data": {
      "application/vnd.jupyter.widget-view+json": {
       "model_id": "b54c56cb996b42818df022e327d1758d",
       "version_major": 2,
       "version_minor": 0
      },
      "text/plain": [
       "Pandas Apply:   0%|          | 0/807 [00:00<?, ?it/s]"
      ]
     },
     "metadata": {},
     "output_type": "display_data"
    },
    {
     "data": {
      "application/vnd.jupyter.widget-view+json": {
       "model_id": "e65c9e4163534f079303f4a3162666df",
       "version_major": 2,
       "version_minor": 0
      },
      "text/plain": [
       "Pandas Apply:   0%|          | 0/807 [00:00<?, ?it/s]"
      ]
     },
     "metadata": {},
     "output_type": "display_data"
    },
    {
     "name": "stdout",
     "output_type": "stream",
     "text": [
      "1\n"
     ]
    },
    {
     "data": {
      "application/vnd.jupyter.widget-view+json": {
       "model_id": "50e01a69a5cf4a9d97ef5174bc268267",
       "version_major": 2,
       "version_minor": 0
      },
      "text/plain": [
       "Pandas Apply:   0%|          | 0/807 [00:00<?, ?it/s]"
      ]
     },
     "metadata": {},
     "output_type": "display_data"
    },
    {
     "data": {
      "application/vnd.jupyter.widget-view+json": {
       "model_id": "667ae37035b84cd7ad34374738912606",
       "version_major": 2,
       "version_minor": 0
      },
      "text/plain": [
       "Pandas Apply:   0%|          | 0/807 [00:00<?, ?it/s]"
      ]
     },
     "metadata": {},
     "output_type": "display_data"
    },
    {
     "name": "stdout",
     "output_type": "stream",
     "text": [
      "1\n"
     ]
    },
    {
     "data": {
      "application/vnd.jupyter.widget-view+json": {
       "model_id": "0d028b9b6fc948d3a9a01bad3c7cdeba",
       "version_major": 2,
       "version_minor": 0
      },
      "text/plain": [
       "Pandas Apply:   0%|          | 0/807 [00:00<?, ?it/s]"
      ]
     },
     "metadata": {},
     "output_type": "display_data"
    },
    {
     "data": {
      "application/vnd.jupyter.widget-view+json": {
       "model_id": "2da7974944744578814b2361f5f826c8",
       "version_major": 2,
       "version_minor": 0
      },
      "text/plain": [
       "Pandas Apply:   0%|          | 0/807 [00:00<?, ?it/s]"
      ]
     },
     "metadata": {},
     "output_type": "display_data"
    },
    {
     "name": "stdout",
     "output_type": "stream",
     "text": [
      "6\n"
     ]
    },
    {
     "data": {
      "application/vnd.jupyter.widget-view+json": {
       "model_id": "633d9ceac4aa449da8f92a83732ffbfc",
       "version_major": 2,
       "version_minor": 0
      },
      "text/plain": [
       "Pandas Apply:   0%|          | 0/807 [00:00<?, ?it/s]"
      ]
     },
     "metadata": {},
     "output_type": "display_data"
    },
    {
     "data": {
      "application/vnd.jupyter.widget-view+json": {
       "model_id": "153cc8785f2b40599a3ef01e0375da5d",
       "version_major": 2,
       "version_minor": 0
      },
      "text/plain": [
       "Pandas Apply:   0%|          | 0/807 [00:00<?, ?it/s]"
      ]
     },
     "metadata": {},
     "output_type": "display_data"
    },
    {
     "name": "stdout",
     "output_type": "stream",
     "text": [
      "1\n"
     ]
    },
    {
     "data": {
      "application/vnd.jupyter.widget-view+json": {
       "model_id": "b3b419682e8242ef9a16b131d8328afd",
       "version_major": 2,
       "version_minor": 0
      },
      "text/plain": [
       "Pandas Apply:   0%|          | 0/807 [00:00<?, ?it/s]"
      ]
     },
     "metadata": {},
     "output_type": "display_data"
    },
    {
     "data": {
      "application/vnd.jupyter.widget-view+json": {
       "model_id": "0d89ee20e39340c0ae7efdba26206d49",
       "version_major": 2,
       "version_minor": 0
      },
      "text/plain": [
       "Pandas Apply:   0%|          | 0/807 [00:00<?, ?it/s]"
      ]
     },
     "metadata": {},
     "output_type": "display_data"
    },
    {
     "name": "stdout",
     "output_type": "stream",
     "text": [
      "2\n"
     ]
    },
    {
     "data": {
      "application/vnd.jupyter.widget-view+json": {
       "model_id": "6ed933f672b14512a35a5bab7b697787",
       "version_major": 2,
       "version_minor": 0
      },
      "text/plain": [
       "Pandas Apply:   0%|          | 0/807 [00:00<?, ?it/s]"
      ]
     },
     "metadata": {},
     "output_type": "display_data"
    },
    {
     "data": {
      "application/vnd.jupyter.widget-view+json": {
       "model_id": "be2fce86d88d4a62917f567c9d4589e8",
       "version_major": 2,
       "version_minor": 0
      },
      "text/plain": [
       "Pandas Apply:   0%|          | 0/807 [00:00<?, ?it/s]"
      ]
     },
     "metadata": {},
     "output_type": "display_data"
    },
    {
     "name": "stdout",
     "output_type": "stream",
     "text": [
      "7\n"
     ]
    },
    {
     "data": {
      "application/vnd.jupyter.widget-view+json": {
       "model_id": "05344fa25754427fb6c6c2a4e123daa7",
       "version_major": 2,
       "version_minor": 0
      },
      "text/plain": [
       "Pandas Apply:   0%|          | 0/807 [00:00<?, ?it/s]"
      ]
     },
     "metadata": {},
     "output_type": "display_data"
    },
    {
     "data": {
      "application/vnd.jupyter.widget-view+json": {
       "model_id": "2197414a90af4f39923164507519ce0b",
       "version_major": 2,
       "version_minor": 0
      },
      "text/plain": [
       "Pandas Apply:   0%|          | 0/807 [00:00<?, ?it/s]"
      ]
     },
     "metadata": {},
     "output_type": "display_data"
    },
    {
     "name": "stdout",
     "output_type": "stream",
     "text": [
      "1\n"
     ]
    },
    {
     "data": {
      "application/vnd.jupyter.widget-view+json": {
       "model_id": "c56da253494e41a488963373e8dd77d4",
       "version_major": 2,
       "version_minor": 0
      },
      "text/plain": [
       "Pandas Apply:   0%|          | 0/807 [00:00<?, ?it/s]"
      ]
     },
     "metadata": {},
     "output_type": "display_data"
    },
    {
     "data": {
      "application/vnd.jupyter.widget-view+json": {
       "model_id": "fc6030d5375d4c49bbc51e3ff11c7211",
       "version_major": 2,
       "version_minor": 0
      },
      "text/plain": [
       "Pandas Apply:   0%|          | 0/807 [00:00<?, ?it/s]"
      ]
     },
     "metadata": {},
     "output_type": "display_data"
    },
    {
     "name": "stdout",
     "output_type": "stream",
     "text": [
      "1\n"
     ]
    },
    {
     "data": {
      "application/vnd.jupyter.widget-view+json": {
       "model_id": "371b3b69c75f4df8ab3157851bfdbb16",
       "version_major": 2,
       "version_minor": 0
      },
      "text/plain": [
       "Pandas Apply:   0%|          | 0/807 [00:00<?, ?it/s]"
      ]
     },
     "metadata": {},
     "output_type": "display_data"
    },
    {
     "data": {
      "application/vnd.jupyter.widget-view+json": {
       "model_id": "575bbfc9e388424aa42332f3ec2fa6df",
       "version_major": 2,
       "version_minor": 0
      },
      "text/plain": [
       "Pandas Apply:   0%|          | 0/807 [00:00<?, ?it/s]"
      ]
     },
     "metadata": {},
     "output_type": "display_data"
    },
    {
     "name": "stdout",
     "output_type": "stream",
     "text": [
      "8\n"
     ]
    },
    {
     "data": {
      "application/vnd.jupyter.widget-view+json": {
       "model_id": "20335174709b4a20ae5e78a24d183299",
       "version_major": 2,
       "version_minor": 0
      },
      "text/plain": [
       "Pandas Apply:   0%|          | 0/807 [00:00<?, ?it/s]"
      ]
     },
     "metadata": {},
     "output_type": "display_data"
    },
    {
     "data": {
      "application/vnd.jupyter.widget-view+json": {
       "model_id": "5df264d7856246f18d285895db824d26",
       "version_major": 2,
       "version_minor": 0
      },
      "text/plain": [
       "Pandas Apply:   0%|          | 0/807 [00:00<?, ?it/s]"
      ]
     },
     "metadata": {},
     "output_type": "display_data"
    },
    {
     "name": "stdout",
     "output_type": "stream",
     "text": [
      "1\n"
     ]
    },
    {
     "data": {
      "application/vnd.jupyter.widget-view+json": {
       "model_id": "d93611c114984ce9b9be654445644df0",
       "version_major": 2,
       "version_minor": 0
      },
      "text/plain": [
       "Pandas Apply:   0%|          | 0/807 [00:00<?, ?it/s]"
      ]
     },
     "metadata": {},
     "output_type": "display_data"
    },
    {
     "data": {
      "application/vnd.jupyter.widget-view+json": {
       "model_id": "89bdbdce96244ea9b09244da437ee688",
       "version_major": 2,
       "version_minor": 0
      },
      "text/plain": [
       "Pandas Apply:   0%|          | 0/807 [00:00<?, ?it/s]"
      ]
     },
     "metadata": {},
     "output_type": "display_data"
    },
    {
     "name": "stdout",
     "output_type": "stream",
     "text": [
      "1\n"
     ]
    },
    {
     "data": {
      "application/vnd.jupyter.widget-view+json": {
       "model_id": "3915f2e221af4420ba04e53f25a3048e",
       "version_major": 2,
       "version_minor": 0
      },
      "text/plain": [
       "Pandas Apply:   0%|          | 0/807 [00:00<?, ?it/s]"
      ]
     },
     "metadata": {},
     "output_type": "display_data"
    },
    {
     "data": {
      "application/vnd.jupyter.widget-view+json": {
       "model_id": "e230d9fc43b5452d8f5ca278638900c8",
       "version_major": 2,
       "version_minor": 0
      },
      "text/plain": [
       "Pandas Apply:   0%|          | 0/807 [00:00<?, ?it/s]"
      ]
     },
     "metadata": {},
     "output_type": "display_data"
    },
    {
     "name": "stdout",
     "output_type": "stream",
     "text": [
      "9\n"
     ]
    },
    {
     "data": {
      "application/vnd.jupyter.widget-view+json": {
       "model_id": "a97974f797c94bbc9dee985ec16e197f",
       "version_major": 2,
       "version_minor": 0
      },
      "text/plain": [
       "Pandas Apply:   0%|          | 0/807 [00:00<?, ?it/s]"
      ]
     },
     "metadata": {},
     "output_type": "display_data"
    },
    {
     "data": {
      "application/vnd.jupyter.widget-view+json": {
       "model_id": "56505bde9b524f469a28c0388b8010ae",
       "version_major": 2,
       "version_minor": 0
      },
      "text/plain": [
       "Pandas Apply:   0%|          | 0/807 [00:00<?, ?it/s]"
      ]
     },
     "metadata": {},
     "output_type": "display_data"
    },
    {
     "name": "stdout",
     "output_type": "stream",
     "text": [
      "1\n"
     ]
    },
    {
     "data": {
      "application/vnd.jupyter.widget-view+json": {
       "model_id": "5f0a50a3633c4cb7a073ab89420565ba",
       "version_major": 2,
       "version_minor": 0
      },
      "text/plain": [
       "Pandas Apply:   0%|          | 0/807 [00:00<?, ?it/s]"
      ]
     },
     "metadata": {},
     "output_type": "display_data"
    },
    {
     "data": {
      "application/vnd.jupyter.widget-view+json": {
       "model_id": "65d688bb7ed8403fa9180be6833edf21",
       "version_major": 2,
       "version_minor": 0
      },
      "text/plain": [
       "Pandas Apply:   0%|          | 0/807 [00:00<?, ?it/s]"
      ]
     },
     "metadata": {},
     "output_type": "display_data"
    },
    {
     "name": "stdout",
     "output_type": "stream",
     "text": [
      "10\n"
     ]
    },
    {
     "data": {
      "application/vnd.jupyter.widget-view+json": {
       "model_id": "67b90c6d85574bafa9ed14f6c61f0ad4",
       "version_major": 2,
       "version_minor": 0
      },
      "text/plain": [
       "Pandas Apply:   0%|          | 0/807 [00:00<?, ?it/s]"
      ]
     },
     "metadata": {},
     "output_type": "display_data"
    },
    {
     "data": {
      "application/vnd.jupyter.widget-view+json": {
       "model_id": "080d906a36184566a7422a1b00c0d328",
       "version_major": 2,
       "version_minor": 0
      },
      "text/plain": [
       "Pandas Apply:   0%|          | 0/807 [00:00<?, ?it/s]"
      ]
     },
     "metadata": {},
     "output_type": "display_data"
    },
    {
     "name": "stdout",
     "output_type": "stream",
     "text": [
      "11\n"
     ]
    },
    {
     "data": {
      "application/vnd.jupyter.widget-view+json": {
       "model_id": "553d9bdcbcc94af6932a0eeca2374b19",
       "version_major": 2,
       "version_minor": 0
      },
      "text/plain": [
       "Pandas Apply:   0%|          | 0/807 [00:00<?, ?it/s]"
      ]
     },
     "metadata": {},
     "output_type": "display_data"
    },
    {
     "data": {
      "application/vnd.jupyter.widget-view+json": {
       "model_id": "715a72736a244379ba3cf145e11cf0cb",
       "version_major": 2,
       "version_minor": 0
      },
      "text/plain": [
       "Pandas Apply:   0%|          | 0/807 [00:00<?, ?it/s]"
      ]
     },
     "metadata": {},
     "output_type": "display_data"
    },
    {
     "name": "stdout",
     "output_type": "stream",
     "text": [
      "12\n"
     ]
    },
    {
     "data": {
      "application/vnd.jupyter.widget-view+json": {
       "model_id": "0d28744cf4184237b1cca8828896e481",
       "version_major": 2,
       "version_minor": 0
      },
      "text/plain": [
       "Pandas Apply:   0%|          | 0/807 [00:00<?, ?it/s]"
      ]
     },
     "metadata": {},
     "output_type": "display_data"
    },
    {
     "data": {
      "application/vnd.jupyter.widget-view+json": {
       "model_id": "d643e00f137340ceae3cd8500794ec89",
       "version_major": 2,
       "version_minor": 0
      },
      "text/plain": [
       "Pandas Apply:   0%|          | 0/807 [00:00<?, ?it/s]"
      ]
     },
     "metadata": {},
     "output_type": "display_data"
    },
    {
     "name": "stdout",
     "output_type": "stream",
     "text": [
      "1\n"
     ]
    },
    {
     "data": {
      "application/vnd.jupyter.widget-view+json": {
       "model_id": "f34a94e4f4df4fcfab6effc265c521b5",
       "version_major": 2,
       "version_minor": 0
      },
      "text/plain": [
       "Pandas Apply:   0%|          | 0/807 [00:00<?, ?it/s]"
      ]
     },
     "metadata": {},
     "output_type": "display_data"
    },
    {
     "data": {
      "application/vnd.jupyter.widget-view+json": {
       "model_id": "9d91a0b1891b4cef816e4bcc17e67d90",
       "version_major": 2,
       "version_minor": 0
      },
      "text/plain": [
       "Pandas Apply:   0%|          | 0/807 [00:00<?, ?it/s]"
      ]
     },
     "metadata": {},
     "output_type": "display_data"
    },
    {
     "name": "stdout",
     "output_type": "stream",
     "text": [
      "13\n"
     ]
    },
    {
     "data": {
      "application/vnd.jupyter.widget-view+json": {
       "model_id": "53d2b8dacffb473290e398fec92e735e",
       "version_major": 2,
       "version_minor": 0
      },
      "text/plain": [
       "Pandas Apply:   0%|          | 0/807 [00:00<?, ?it/s]"
      ]
     },
     "metadata": {},
     "output_type": "display_data"
    },
    {
     "data": {
      "application/vnd.jupyter.widget-view+json": {
       "model_id": "f081b01d27ea48a182153de35d1970fa",
       "version_major": 2,
       "version_minor": 0
      },
      "text/plain": [
       "Pandas Apply:   0%|          | 0/807 [00:00<?, ?it/s]"
      ]
     },
     "metadata": {},
     "output_type": "display_data"
    },
    {
     "name": "stdout",
     "output_type": "stream",
     "text": [
      "1\n"
     ]
    },
    {
     "data": {
      "application/vnd.jupyter.widget-view+json": {
       "model_id": "c4d80198079040d4ac184ad4b4425247",
       "version_major": 2,
       "version_minor": 0
      },
      "text/plain": [
       "Pandas Apply:   0%|          | 0/807 [00:00<?, ?it/s]"
      ]
     },
     "metadata": {},
     "output_type": "display_data"
    },
    {
     "data": {
      "application/vnd.jupyter.widget-view+json": {
       "model_id": "8621a82a6fcb4762ace0ae8fdb9d5be5",
       "version_major": 2,
       "version_minor": 0
      },
      "text/plain": [
       "Pandas Apply:   0%|          | 0/807 [00:00<?, ?it/s]"
      ]
     },
     "metadata": {},
     "output_type": "display_data"
    },
    {
     "name": "stdout",
     "output_type": "stream",
     "text": [
      "14\n"
     ]
    },
    {
     "data": {
      "application/vnd.jupyter.widget-view+json": {
       "model_id": "11bd624f218945c59b5a92cb449e7dff",
       "version_major": 2,
       "version_minor": 0
      },
      "text/plain": [
       "Pandas Apply:   0%|          | 0/807 [00:00<?, ?it/s]"
      ]
     },
     "metadata": {},
     "output_type": "display_data"
    },
    {
     "data": {
      "application/vnd.jupyter.widget-view+json": {
       "model_id": "9658776db3b442ceadaf803f687f3a62",
       "version_major": 2,
       "version_minor": 0
      },
      "text/plain": [
       "Pandas Apply:   0%|          | 0/807 [00:00<?, ?it/s]"
      ]
     },
     "metadata": {},
     "output_type": "display_data"
    },
    {
     "name": "stdout",
     "output_type": "stream",
     "text": [
      "1\n"
     ]
    },
    {
     "data": {
      "application/vnd.jupyter.widget-view+json": {
       "model_id": "3fab2ca044bb47a1ba4e0ec54f1041f5",
       "version_major": 2,
       "version_minor": 0
      },
      "text/plain": [
       "Pandas Apply:   0%|          | 0/807 [00:00<?, ?it/s]"
      ]
     },
     "metadata": {},
     "output_type": "display_data"
    },
    {
     "data": {
      "application/vnd.jupyter.widget-view+json": {
       "model_id": "6dc741aa217d44af96b0b0b042c8e08b",
       "version_major": 2,
       "version_minor": 0
      },
      "text/plain": [
       "Pandas Apply:   0%|          | 0/807 [00:00<?, ?it/s]"
      ]
     },
     "metadata": {},
     "output_type": "display_data"
    },
    {
     "name": "stdout",
     "output_type": "stream",
     "text": [
      "15\n"
     ]
    },
    {
     "data": {
      "application/vnd.jupyter.widget-view+json": {
       "model_id": "26f02f324ca2408abb04aebeade74c29",
       "version_major": 2,
       "version_minor": 0
      },
      "text/plain": [
       "Pandas Apply:   0%|          | 0/807 [00:00<?, ?it/s]"
      ]
     },
     "metadata": {},
     "output_type": "display_data"
    },
    {
     "data": {
      "application/vnd.jupyter.widget-view+json": {
       "model_id": "f598a51ac5f84556871f1125aea3372c",
       "version_major": 2,
       "version_minor": 0
      },
      "text/plain": [
       "Pandas Apply:   0%|          | 0/807 [00:00<?, ?it/s]"
      ]
     },
     "metadata": {},
     "output_type": "display_data"
    },
    {
     "name": "stdout",
     "output_type": "stream",
     "text": [
      "18\n"
     ]
    },
    {
     "data": {
      "application/vnd.jupyter.widget-view+json": {
       "model_id": "2567932c888d4b2085a65a4c6182c5ae",
       "version_major": 2,
       "version_minor": 0
      },
      "text/plain": [
       "Pandas Apply:   0%|          | 0/807 [00:00<?, ?it/s]"
      ]
     },
     "metadata": {},
     "output_type": "display_data"
    },
    {
     "data": {
      "application/vnd.jupyter.widget-view+json": {
       "model_id": "c3de6eca8b654d2f8f305e450d7bc1c0",
       "version_major": 2,
       "version_minor": 0
      },
      "text/plain": [
       "Pandas Apply:   0%|          | 0/807 [00:00<?, ?it/s]"
      ]
     },
     "metadata": {},
     "output_type": "display_data"
    },
    {
     "name": "stdout",
     "output_type": "stream",
     "text": [
      "1\n"
     ]
    },
    {
     "data": {
      "application/vnd.jupyter.widget-view+json": {
       "model_id": "1bdd273397c44c80980e7bd3751124e8",
       "version_major": 2,
       "version_minor": 0
      },
      "text/plain": [
       "Pandas Apply:   0%|          | 0/807 [00:00<?, ?it/s]"
      ]
     },
     "metadata": {},
     "output_type": "display_data"
    },
    {
     "data": {
      "application/vnd.jupyter.widget-view+json": {
       "model_id": "08e9f5603a4544c4b39c9b9303c019c1",
       "version_major": 2,
       "version_minor": 0
      },
      "text/plain": [
       "Pandas Apply:   0%|          | 0/807 [00:00<?, ?it/s]"
      ]
     },
     "metadata": {},
     "output_type": "display_data"
    },
    {
     "name": "stdout",
     "output_type": "stream",
     "text": [
      "19\n"
     ]
    },
    {
     "data": {
      "application/vnd.jupyter.widget-view+json": {
       "model_id": "f5800ef66e0a4766869bb7e5ec1e623d",
       "version_major": 2,
       "version_minor": 0
      },
      "text/plain": [
       "Pandas Apply:   0%|          | 0/807 [00:00<?, ?it/s]"
      ]
     },
     "metadata": {},
     "output_type": "display_data"
    },
    {
     "data": {
      "application/vnd.jupyter.widget-view+json": {
       "model_id": "dfaa488e88cd4a5f9ac5dfbdc2207f94",
       "version_major": 2,
       "version_minor": 0
      },
      "text/plain": [
       "Pandas Apply:   0%|          | 0/807 [00:00<?, ?it/s]"
      ]
     },
     "metadata": {},
     "output_type": "display_data"
    },
    {
     "name": "stdout",
     "output_type": "stream",
     "text": [
      "1\n"
     ]
    },
    {
     "data": {
      "application/vnd.jupyter.widget-view+json": {
       "model_id": "1df99cc06612496697e5d1e87dc7926c",
       "version_major": 2,
       "version_minor": 0
      },
      "text/plain": [
       "Pandas Apply:   0%|          | 0/807 [00:00<?, ?it/s]"
      ]
     },
     "metadata": {},
     "output_type": "display_data"
    },
    {
     "data": {
      "application/vnd.jupyter.widget-view+json": {
       "model_id": "d9ac30ec005842079b368a0e0326d422",
       "version_major": 2,
       "version_minor": 0
      },
      "text/plain": [
       "Pandas Apply:   0%|          | 0/807 [00:00<?, ?it/s]"
      ]
     },
     "metadata": {},
     "output_type": "display_data"
    },
    {
     "name": "stdout",
     "output_type": "stream",
     "text": [
      "20\n"
     ]
    },
    {
     "data": {
      "application/vnd.jupyter.widget-view+json": {
       "model_id": "53e539d8a7a046a1b3abcc88d8f99f9a",
       "version_major": 2,
       "version_minor": 0
      },
      "text/plain": [
       "Pandas Apply:   0%|          | 0/807 [00:00<?, ?it/s]"
      ]
     },
     "metadata": {},
     "output_type": "display_data"
    },
    {
     "data": {
      "application/vnd.jupyter.widget-view+json": {
       "model_id": "3768395d50ba45139a5d6ee3a2126258",
       "version_major": 2,
       "version_minor": 0
      },
      "text/plain": [
       "Pandas Apply:   0%|          | 0/807 [00:00<?, ?it/s]"
      ]
     },
     "metadata": {},
     "output_type": "display_data"
    },
    {
     "name": "stdout",
     "output_type": "stream",
     "text": [
      "1\n"
     ]
    },
    {
     "data": {
      "application/vnd.jupyter.widget-view+json": {
       "model_id": "de046b6d38d8435693e4d4ce2ca63172",
       "version_major": 2,
       "version_minor": 0
      },
      "text/plain": [
       "Pandas Apply:   0%|          | 0/807 [00:00<?, ?it/s]"
      ]
     },
     "metadata": {},
     "output_type": "display_data"
    },
    {
     "data": {
      "application/vnd.jupyter.widget-view+json": {
       "model_id": "21b69126e8654911b18e86d52dbcc445",
       "version_major": 2,
       "version_minor": 0
      },
      "text/plain": [
       "Pandas Apply:   0%|          | 0/807 [00:00<?, ?it/s]"
      ]
     },
     "metadata": {},
     "output_type": "display_data"
    }
   ],
   "source": [
    "\n",
    "lowest_count = top_counted.most_common()[-1][1]\n",
    "\n",
    "while lowest_count < 21:\n",
    "    print(lowest_count)\n",
    "    df['tags'] = df['tags'].swifter.apply(lambda x: [y for y in x if top_counted[y] != lowest_count])\n",
    "    top_tags_list = (df['tags'].swifter.apply(lambda x: x[0] if len(x) != 0 else '').tolist())\n",
    "    top_counted = Counter(top_tags_list)\n",
    "    try:\n",
    "        top_counted.pop('')\n",
    "    except:\n",
    "        continue\n",
    "    lowest_count = top_counted.most_common()[-1][1]"
   ]
  },
  {
   "cell_type": "code",
   "execution_count": 341,
   "id": "8fac2723-d4ec-41f8-b733-57a471281221",
   "metadata": {
    "tags": []
   },
   "outputs": [
    {
     "data": {
      "image/png": "[encoded data removed]",
      "text/plain": [
       "<Figure size 3600x1080 with 1 Axes>"
      ]
     },
     "metadata": {
      "needs_background": "light"
     },
     "output_type": "display_data"
    }
   ],
   "source": [
    "plt.figure(figsize=(50,15))\n",
    "plt.bar(*zip(*sorted(top_counted.items(), key=lambda item: item[1])))\n",
    "plt.xticks(rotation=90)\n",
    "\n",
    "plt.show()"
   ]
  },
  {
   "cell_type": "code",
   "execution_count": 342,
   "id": "a8782b77-98d8-4063-8d90-f4b2e58d5ca0",
   "metadata": {},
   "outputs": [],
   "source": [
    "df = df[df['tags'].map(lambda x: len(x)) != 0]"
   ]
  },
  {
   "cell_type": "code",
   "execution_count": 343,
   "id": "500dc7ef-ad29-4ac1-9170-1ece00b6e4a6",
   "metadata": {},
   "outputs": [
    {
     "data": {
      "application/vnd.jupyter.widget-view+json": {
       "model_id": "7d7eb098f651479aadc1539d2bc280a7",
       "version_major": 2,
       "version_minor": 0
      },
      "text/plain": [
       "Pandas Apply:   0%|          | 0/791 [00:00<?, ?it/s]"
      ]
     },
     "metadata": {},
     "output_type": "display_data"
    }
   ],
   "source": [
    "# df['tags'] = df['tags'].swifter.apply(lambda x: sorted(x, key=lambda y: counted[y], reverse=True))\n",
    "df['tags'] = df['tags'].swifter.apply(lambda x: x[0])\n"
   ]
  },
  {
   "cell_type": "code",
   "execution_count": 345,
   "id": "9af2582b-5d73-495c-9907-4da58eb1924d",
   "metadata": {},
   "outputs": [],
   "source": [
    "df.to_csv('data/shrunktags.csv')"
   ]
  },
  {
   "cell_type": "code",
   "execution_count": 347,
   "id": "db2404cf-be2c-484e-9177-4d6787fa8345",
   "metadata": {},
   "outputs": [],
   "source": [
    "for key in top_counted.keys():\n",
    "    try:\n",
    "        os.makedirs('images/'+key) \n",
    "    except:\n",
    "        pass"
   ]
  },
  {
   "cell_type": "code",
   "execution_count": 348,
   "id": "05ac89bd-9e18-46b2-943d-7c6153bce6db",
   "metadata": {},
   "outputs": [
    {
     "data": {
      "text/html": [
       "<div>\n",
       "<style scoped>\n",
       "    .dataframe tbody tr th:only-of-type {\n",
       "        vertical-align: middle;\n",
       "    }\n",
       "\n",
       "    .dataframe tbody tr th {\n",
       "        vertical-align: top;\n",
       "    }\n",
       "\n",
       "    .dataframe thead th {\n",
       "        text-align: right;\n",
       "    }\n",
       "</style>\n",
       "<table border=\"1\" class=\"dataframe\">\n",
       "  <thead>\n",
       "    <tr style=\"text-align: right;\">\n",
       "      <th></th>\n",
       "      <th>appid</th>\n",
       "      <th>name</th>\n",
       "      <th>categories</th>\n",
       "      <th>genres</th>\n",
       "      <th>tags</th>\n",
       "    </tr>\n",
       "  </thead>\n",
       "  <tbody>\n",
       "    <tr>\n",
       "      <th>0</th>\n",
       "      <td>10</td>\n",
       "      <td>Counter-Strike</td>\n",
       "      <td>[multi-player, pvp, online pvp, shared/split s...</td>\n",
       "      <td>[action]</td>\n",
       "      <td>fps</td>\n",
       "    </tr>\n",
       "    <tr>\n",
       "      <th>1</th>\n",
       "      <td>20</td>\n",
       "      <td>Team Fortress Classic</td>\n",
       "      <td>[multi-player, pvp, online pvp, shared/split s...</td>\n",
       "      <td>[action]</td>\n",
       "      <td>fps</td>\n",
       "    </tr>\n",
       "    <tr>\n",
       "      <th>2</th>\n",
       "      <td>30</td>\n",
       "      <td>Day of Defeat</td>\n",
       "      <td>[multi-player, valve anti-cheat enabled]</td>\n",
       "      <td>[action]</td>\n",
       "      <td>fps</td>\n",
       "    </tr>\n",
       "    <tr>\n",
       "      <th>3</th>\n",
       "      <td>40</td>\n",
       "      <td>Deathmatch Classic</td>\n",
       "      <td>[multi-player, pvp, online pvp, shared/split s...</td>\n",
       "      <td>[action]</td>\n",
       "      <td>fps</td>\n",
       "    </tr>\n",
       "    <tr>\n",
       "      <th>4</th>\n",
       "      <td>50</td>\n",
       "      <td>Half-Life: Opposing Force</td>\n",
       "      <td>[single-player, multi-player, valve anti-cheat...</td>\n",
       "      <td>[action]</td>\n",
       "      <td>fps</td>\n",
       "    </tr>\n",
       "    <tr>\n",
       "      <th>...</th>\n",
       "      <td>...</td>\n",
       "      <td>...</td>\n",
       "      <td>...</td>\n",
       "      <td>...</td>\n",
       "      <td>...</td>\n",
       "    </tr>\n",
       "    <tr>\n",
       "      <th>37076</th>\n",
       "      <td>1353950</td>\n",
       "      <td>Ring of Fire: Prologue</td>\n",
       "      <td>[single-player]</td>\n",
       "      <td>[adventure, casual, free to play, indie, simul...</td>\n",
       "      <td>story rich</td>\n",
       "    </tr>\n",
       "    <tr>\n",
       "      <th>37390</th>\n",
       "      <td>1366540</td>\n",
       "      <td>Dyson Sphere Program</td>\n",
       "      <td>[single-player, remote play on tablet]</td>\n",
       "      <td>[indie, simulation, strategy, early access]</td>\n",
       "      <td>sci-fi</td>\n",
       "    </tr>\n",
       "    <tr>\n",
       "      <th>38283</th>\n",
       "      <td>1399780</td>\n",
       "      <td>Spellbreak</td>\n",
       "      <td>[multi-player, pvp, online pvp, cross-platform...</td>\n",
       "      <td>[action, adventure, free to play, rpg]</td>\n",
       "      <td>fantasy</td>\n",
       "    </tr>\n",
       "    <tr>\n",
       "      <th>38898</th>\n",
       "      <td>1426210</td>\n",
       "      <td>It Takes Two</td>\n",
       "      <td>[multi-player, co-op, online co-op, shared/spl...</td>\n",
       "      <td>[action, adventure]</td>\n",
       "      <td>puzzle</td>\n",
       "    </tr>\n",
       "    <tr>\n",
       "      <th>39835</th>\n",
       "      <td>1468810</td>\n",
       "      <td>鬼谷八荒</td>\n",
       "      <td>[single-player, steam achievements, remote pla...</td>\n",
       "      <td>[action, adventure, indie, rpg, simulation, ea...</td>\n",
       "      <td>sandbox</td>\n",
       "    </tr>\n",
       "  </tbody>\n",
       "</table>\n",
       "<p>791 rows × 5 columns</p>\n",
       "</div>"
      ],
      "text/plain": [
       "         appid                       name  \\\n",
       "0           10             Counter-Strike   \n",
       "1           20      Team Fortress Classic   \n",
       "2           30              Day of Defeat   \n",
       "3           40         Deathmatch Classic   \n",
       "4           50  Half-Life: Opposing Force   \n",
       "...        ...                        ...   \n",
       "37076  1353950     Ring of Fire: Prologue   \n",
       "37390  1366540       Dyson Sphere Program   \n",
       "38283  1399780                 Spellbreak   \n",
       "38898  1426210               It Takes Two   \n",
       "39835  1468810                       鬼谷八荒   \n",
       "\n",
       "                                              categories  \\\n",
       "0      [multi-player, pvp, online pvp, shared/split s...   \n",
       "1      [multi-player, pvp, online pvp, shared/split s...   \n",
       "2               [multi-player, valve anti-cheat enabled]   \n",
       "3      [multi-player, pvp, online pvp, shared/split s...   \n",
       "4      [single-player, multi-player, valve anti-cheat...   \n",
       "...                                                  ...   \n",
       "37076                                    [single-player]   \n",
       "37390             [single-player, remote play on tablet]   \n",
       "38283  [multi-player, pvp, online pvp, cross-platform...   \n",
       "38898  [multi-player, co-op, online co-op, shared/spl...   \n",
       "39835  [single-player, steam achievements, remote pla...   \n",
       "\n",
       "                                                  genres        tags  \n",
       "0                                               [action]         fps  \n",
       "1                                               [action]         fps  \n",
       "2                                               [action]         fps  \n",
       "3                                               [action]         fps  \n",
       "4                                               [action]         fps  \n",
       "...                                                  ...         ...  \n",
       "37076  [adventure, casual, free to play, indie, simul...  story rich  \n",
       "37390        [indie, simulation, strategy, early access]      sci-fi  \n",
       "38283             [action, adventure, free to play, rpg]     fantasy  \n",
       "38898                                [action, adventure]      puzzle  \n",
       "39835  [action, adventure, indie, rpg, simulation, ea...     sandbox  \n",
       "\n",
       "[791 rows x 5 columns]"
      ]
     },
     "execution_count": 348,
     "metadata": {},
     "output_type": "execute_result"
    }
   ],
   "source": [
    "df"
   ]
  },
  {
   "cell_type": "code",
   "execution_count": 322,
   "id": "6e913a84-a1f9-4eb5-a7e4-d0cdc957080e",
   "metadata": {},
   "outputs": [
    {
     "data": {
      "text/plain": [
       "fps                    142\n",
       "survival                60\n",
       "sandbox                 52\n",
       "funny                   50\n",
       "story rich              42\n",
       "fantasy                 38\n",
       "sci-fi                  37\n",
       "stealth                 34\n",
       "rts                     33\n",
       "horror                  32\n",
       "platformer              31\n",
       "hack and slash          31\n",
       "difficult               30\n",
       "mmorpg                  29\n",
       "automobile sim          28\n",
       "zombies                 27\n",
       "third person            25\n",
       "turn-based strategy     24\n",
       "anime                   24\n",
       "puzzle                  22\n",
       "Name: tags, dtype: int64"
      ]
     },
     "execution_count": 322,
     "metadata": {},
     "output_type": "execute_result"
    }
   ],
   "source": [
    "class_counts.head(50)"
   ]
  },
  {
   "cell_type": "code",
   "execution_count": null,
   "id": "10ffdac8-06c4-4294-984e-6d73614f4706",
   "metadata": {},
   "outputs": [],
   "source": [
    "app_list = list(df['appid'])\n",
    "url = \"http://store.steampowered.com/api/appdetails/\"\n",
    "\n",
    "for i in range(len(app_list)):\n",
    "    appid = app_list[i]\n",
    "    parameters = {\"appids\": appid}\n",
    "    print(i)\n",
    "#     time.sleep(0.5)\n",
    "    \n",
    "    json_data = get_request(url, parameters=parameters, rate=10)[str(appid)]\n",
    "\n",
    "\n",
    "    if json_data['success']:\n",
    "        json_data = json_data['data']\n",
    "    else:\n",
    "        json_data = {'steam_appid': appid}\n",
    "    \n",
    "    try:\n",
    "        json_data['screenshots'] = [x['path_thumbnail'] for x in json_data['screenshots']]\n",
    "    except:\n",
    "        json_data['screenshots'] = []\n",
    "\n",
    "  \n",
    "\n",
    "    json_data = {k: json_data[k] for k in ['steam_appid','screenshots','name']}    \n",
    "    screenshots = pd.DataFrame.from_dict({i: json_data}, orient='index')\n",
    "    if not os.path.isfile('data/screenshots.csv'):\n",
    "        screenshots.to_csv('data/screenshots.csv', index=True)\n",
    "    else:\n",
    "        screenshots.to_csv('data/screenshots.csv', mode='a', header=False, index=True)"
   ]
  },
  {
   "cell_type": "code",
   "execution_count": 356,
   "id": "920a8beb-ab1e-462b-b62d-ea1fd4337082",
   "metadata": {},
   "outputs": [],
   "source": [
    "import ast"
   ]
  },
  {
   "cell_type": "code",
   "execution_count": 374,
   "id": "7f0abc07-2438-4447-8745-2060d5793c51",
   "metadata": {},
   "outputs": [
    {
     "data": {
      "application/vnd.jupyter.widget-view+json": {
       "model_id": "3ded67e10b074bb2b312147191c75f8c",
       "version_major": 2,
       "version_minor": 0
      },
      "text/plain": [
       "Pandas Apply:   0%|          | 0/807 [00:00<?, ?it/s]"
      ]
     },
     "metadata": {},
     "output_type": "display_data"
    }
   ],
   "source": [
    "screenshot_df = pd.read_csv('data/screenshots.csv',index_col=0)\n",
    "screenshot_df['screenshots'] = screenshot_df['screenshots'].swifter.apply(lambda x: ast.literal_eval(x))"
   ]
  },
  {
   "cell_type": "code",
   "execution_count": 375,
   "id": "c36dbebd-5cf5-4d0f-bdf7-8f2f6e0435e3",
   "metadata": {},
   "outputs": [
    {
     "data": {
      "text/html": [
       "<div>\n",
       "<style scoped>\n",
       "    .dataframe tbody tr th:only-of-type {\n",
       "        vertical-align: middle;\n",
       "    }\n",
       "\n",
       "    .dataframe tbody tr th {\n",
       "        vertical-align: top;\n",
       "    }\n",
       "\n",
       "    .dataframe thead th {\n",
       "        text-align: right;\n",
       "    }\n",
       "</style>\n",
       "<table border=\"1\" class=\"dataframe\">\n",
       "  <thead>\n",
       "    <tr style=\"text-align: right;\">\n",
       "      <th></th>\n",
       "      <th>steam_appid</th>\n",
       "      <th>screenshots</th>\n",
       "      <th>name</th>\n",
       "    </tr>\n",
       "  </thead>\n",
       "  <tbody>\n",
       "    <tr>\n",
       "      <th>0</th>\n",
       "      <td>10</td>\n",
       "      <td>[https://cdn.akamai.steamstatic.com/steam/apps...</td>\n",
       "      <td>Counter-Strike</td>\n",
       "    </tr>\n",
       "    <tr>\n",
       "      <th>1</th>\n",
       "      <td>20</td>\n",
       "      <td>[https://cdn.akamai.steamstatic.com/steam/apps...</td>\n",
       "      <td>Team Fortress Classic</td>\n",
       "    </tr>\n",
       "    <tr>\n",
       "      <th>2</th>\n",
       "      <td>30</td>\n",
       "      <td>[https://cdn.akamai.steamstatic.com/steam/apps...</td>\n",
       "      <td>Day of Defeat</td>\n",
       "    </tr>\n",
       "    <tr>\n",
       "      <th>3</th>\n",
       "      <td>40</td>\n",
       "      <td>[https://cdn.akamai.steamstatic.com/steam/apps...</td>\n",
       "      <td>Deathmatch Classic</td>\n",
       "    </tr>\n",
       "    <tr>\n",
       "      <th>4</th>\n",
       "      <td>50</td>\n",
       "      <td>[https://cdn.akamai.steamstatic.com/steam/apps...</td>\n",
       "      <td>Half-Life: Opposing Force</td>\n",
       "    </tr>\n",
       "    <tr>\n",
       "      <th>...</th>\n",
       "      <td>...</td>\n",
       "      <td>...</td>\n",
       "      <td>...</td>\n",
       "    </tr>\n",
       "    <tr>\n",
       "      <th>802</th>\n",
       "      <td>1366540</td>\n",
       "      <td>[https://cdn.akamai.steamstatic.com/steam/apps...</td>\n",
       "      <td>Dyson Sphere Program</td>\n",
       "    </tr>\n",
       "    <tr>\n",
       "      <th>803</th>\n",
       "      <td>1399780</td>\n",
       "      <td>[https://cdn.akamai.steamstatic.com/steam/apps...</td>\n",
       "      <td>Spellbreak</td>\n",
       "    </tr>\n",
       "    <tr>\n",
       "      <th>804</th>\n",
       "      <td>1407200</td>\n",
       "      <td>[https://cdn.akamai.steamstatic.com/steam/apps...</td>\n",
       "      <td>World of Tanks</td>\n",
       "    </tr>\n",
       "    <tr>\n",
       "      <th>805</th>\n",
       "      <td>1426210</td>\n",
       "      <td>[https://cdn.akamai.steamstatic.com/steam/apps...</td>\n",
       "      <td>It Takes Two</td>\n",
       "    </tr>\n",
       "    <tr>\n",
       "      <th>806</th>\n",
       "      <td>1468810</td>\n",
       "      <td>[https://cdn.akamai.steamstatic.com/steam/apps...</td>\n",
       "      <td>鬼谷八荒</td>\n",
       "    </tr>\n",
       "  </tbody>\n",
       "</table>\n",
       "<p>807 rows × 3 columns</p>\n",
       "</div>"
      ],
      "text/plain": [
       "     steam_appid                                        screenshots  \\\n",
       "0             10  [https://cdn.akamai.steamstatic.com/steam/apps...   \n",
       "1             20  [https://cdn.akamai.steamstatic.com/steam/apps...   \n",
       "2             30  [https://cdn.akamai.steamstatic.com/steam/apps...   \n",
       "3             40  [https://cdn.akamai.steamstatic.com/steam/apps...   \n",
       "4             50  [https://cdn.akamai.steamstatic.com/steam/apps...   \n",
       "..           ...                                                ...   \n",
       "802      1366540  [https://cdn.akamai.steamstatic.com/steam/apps...   \n",
       "803      1399780  [https://cdn.akamai.steamstatic.com/steam/apps...   \n",
       "804      1407200  [https://cdn.akamai.steamstatic.com/steam/apps...   \n",
       "805      1426210  [https://cdn.akamai.steamstatic.com/steam/apps...   \n",
       "806      1468810  [https://cdn.akamai.steamstatic.com/steam/apps...   \n",
       "\n",
       "                          name  \n",
       "0               Counter-Strike  \n",
       "1        Team Fortress Classic  \n",
       "2                Day of Defeat  \n",
       "3           Deathmatch Classic  \n",
       "4    Half-Life: Opposing Force  \n",
       "..                         ...  \n",
       "802       Dyson Sphere Program  \n",
       "803                 Spellbreak  \n",
       "804             World of Tanks  \n",
       "805               It Takes Two  \n",
       "806                       鬼谷八荒  \n",
       "\n",
       "[807 rows x 3 columns]"
      ]
     },
     "execution_count": 375,
     "metadata": {},
     "output_type": "execute_result"
    }
   ],
   "source": [
    "screenshot_df"
   ]
  },
  {
   "cell_type": "code",
   "execution_count": 383,
   "id": "b6c9fbd5-2005-40c2-bfff-c71041c1375d",
   "metadata": {},
   "outputs": [],
   "source": [
    "images_tag = pd.merge(screenshot_df,df,how='inner',left_on='steam_appid',right_on='appid')[['screenshots','tags']].groupby('tags')['screenshots'].agg(lambda x: sum(x,[])).to_dict()"
   ]
  },
  {
   "cell_type": "code",
   "execution_count": 1,
   "id": "8604ede9-25fb-447c-9c65-419921ff5a93",
   "metadata": {},
   "outputs": [
    {
     "ename": "NameError",
     "evalue": "name 'images_tag' is not defined",
     "output_type": "error",
     "traceback": [
      "\u001b[0;31m---------------------------------------------------------------------------\u001b[0m",
      "\u001b[0;31mNameError\u001b[0m                                 Traceback (most recent call last)",
      "\u001b[0;32m/var/folders/fq/1xdb2l9900d73xrrtqsd50s80000gn/T/ipykernel_55417/3502859731.py\u001b[0m in \u001b[0;36m<module>\u001b[0;34m\u001b[0m\n\u001b[0;32m----> 1\u001b[0;31m \u001b[0mimages_tag\u001b[0m\u001b[0;34m\u001b[0m\u001b[0;34m\u001b[0m\u001b[0m\n\u001b[0m",
      "\u001b[0;31mNameError\u001b[0m: name 'images_tag' is not defined"
     ]
    }
   ],
   "source": [
    "images_tag\n"
   ]
  },
  {
   "cell_type": "code",
   "execution_count": 386,
   "id": "9bc80f5a-1f52-410c-8bb7-12c49fd0120d",
   "metadata": {},
   "outputs": [],
   "source": [
    "for tag in images_tag.keys():\n",
    "    for i, image in enumerate(images_tag[tag]):\n",
    "        response = requests.get(image)\n",
    "        file = open('images/'+tag+'/'+str(i)+'.png', \"wb\")\n",
    "        file.write(response.content)\n",
    "        file.close()"
   ]
  },
  {
   "cell_type": "code",
   "execution_count": 2,
   "id": "2ff4e3e2-2992-4f8e-a4c6-667fe97c0538",
   "metadata": {},
   "outputs": [],
   "source": [
    "from pathlib import Path"
   ]
  },
  {
   "cell_type": "code",
   "execution_count": 5,
   "id": "4d85d564-5b34-4d80-982f-a11605359246",
   "metadata": {},
   "outputs": [],
   "source": [
    "root = Path('images')"
   ]
  },
  {
   "cell_type": "code",
   "execution_count": 10,
   "id": "203da30f-3fd4-4d81-9b2b-e54c8e5fadf2",
   "metadata": {},
   "outputs": [
    {
     "data": {
      "text/plain": [
       "{'platformer': 400,\n",
       " 'difficult': 348,\n",
       " 'third person': 310,\n",
       " 'turn-based strategy': 251,\n",
       " 'puzzle': 225,\n",
       " 'rts': 402,\n",
       " 'story rich': 522,\n",
       " 'sci-fi': 552,\n",
       " 'zombies': 453,\n",
       " 'funny': 672,\n",
       " 'horror': 369,\n",
       " 'sandbox': 740,\n",
       " 'automobile sim': 679,\n",
       " 'mmorpg': 422,\n",
       " 'stealth': 404,\n",
       " 'anime': 329,\n",
       " 'hack and slash': 428,\n",
       " 'fps': 1888,\n",
       " 'survival': 828,\n",
       " 'fantasy': 455}"
      ]
     },
     "execution_count": 10,
     "metadata": {},
     "output_type": "execute_result"
    }
   ],
   "source": [
    "class_counts = dict()\n",
    "for klass in root.iterdir():\n",
    "    if klass.is_dir():\n",
    "        class_counts[klass.name] = len(list(klass.iterdir()))\n",
    "        \n",
    "class_counts"
   ]
  },
  {
   "cell_type": "code",
   "execution_count": null,
   "id": "674dda16-f9dd-4d18-9165-590abd3ce8c9",
   "metadata": {},
   "outputs": [],
   "source": []
  }
 ],
 "metadata": {
  "kernelspec": {
   "display_name": "Python 3 (ipykernel)",
   "language": "python",
   "name": "python3"
  },
  "language_info": {
   "codemirror_mode": {
    "name": "ipython",
    "version": 3
   },
   "file_extension": ".py",
   "mimetype": "text/x-python",
   "name": "python",
   "nbconvert_exporter": "python",
   "pygments_lexer": "ipython3",
   "version": "3.8.10"
  }
 },
 "nbformat": 4,
 "nbformat_minor": 5
}
